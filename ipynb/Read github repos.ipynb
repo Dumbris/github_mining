{
 "cells": [
  {
   "cell_type": "code",
   "execution_count": 1,
   "metadata": {
    "collapsed": false
   },
   "outputs": [],
   "source": [
    "import re\n",
    "import sys\n",
    "import pandas as pd\n",
    "import numpy as np\n",
    "from github import Github\n",
    "from getpass import getpass\n",
    "from pandas.io.json import json_normalize\n",
    "from IPython.display import display, HTML\n",
    "import matplotlib.pyplot as plt\n",
    "import pickle\n",
    "%matplotlib inline"
   ]
  },
  {
   "cell_type": "code",
   "execution_count": 2,
   "metadata": {
    "collapsed": false
   },
   "outputs": [],
   "source": [
    "repos = pd.read_csv(\"awe_repos_100_in_cats.csv\", encoding=\"utf-8\")"
   ]
  },
  {
   "cell_type": "code",
   "execution_count": 3,
   "metadata": {
    "collapsed": false
   },
   "outputs": [
    {
     "data": {
      "text/plain": [
       "(13877, 5)"
      ]
     },
     "execution_count": 3,
     "metadata": {},
     "output_type": "execute_result"
    }
   ],
   "source": [
    "repos.shape"
   ]
  },
  {
   "cell_type": "code",
   "execution_count": 4,
   "metadata": {
    "collapsed": false
   },
   "outputs": [
    {
     "name": "stdout",
     "output_type": "stream",
     "text": [
      "Enter github token:········\n"
     ]
    }
   ],
   "source": [
    "ACCESS_TOKEN = getpass(prompt=\"Enter github token:\")\n",
    "client = Github(ACCESS_TOKEN, per_page=100)"
   ]
  },
  {
   "cell_type": "code",
   "execution_count": 5,
   "metadata": {
    "collapsed": false
   },
   "outputs": [],
   "source": [
    "cache = {\n",
    "    'repos':{},\n",
    "    'contributors':{},\n",
    "    'followers':{}\n",
    "}"
   ]
  },
  {
   "cell_type": "code",
   "execution_count": 9,
   "metadata": {
    "collapsed": false
   },
   "outputs": [
    {
     "name": "stdout",
     "output_type": "stream",
     "text": [
      "(12300, u'swirlycheetah/slack-brewbot')\n"
     ]
    },
    {
     "name": "stderr",
     "output_type": "stream",
     "text": [
      "Encountered an error fetching data for swirlycheetah/slack-brewbot Skipping.\n",
      "unsupported operand type(s) for +: 'NoneType' and 'str'\n",
      "Encountered an error fetching data for silentrob/superscript/ Skipping.\n",
      "unsupported operand type(s) for +: 'NoneType' and 'str'\n",
      "Encountered an error fetching data for picsoung/breezBot/ Skipping.\n",
      "404 {u'documentation_url': u'https://developer.github.com/v3', u'message': u'Not Found'}\n",
      "Encountered an error fetching data for lgaechter/Archibald Skipping.\n",
      "unsupported operand type(s) for +: 'NoneType' and 'str'\n",
      "Encountered an error fetching data for ConnorVG/PHP-Slack Skipping.\n",
      "404 {u'documentation_url': u'https://developer.github.com/v3', u'message': u'Not Found'}\n"
     ]
    },
    {
     "name": "stdout",
     "output_type": "stream",
     "text": [
      "(12400, u'j0k3r/tourdefrance-slack-bot')\n"
     ]
    },
    {
     "name": "stderr",
     "output_type": "stream",
     "text": [
      "Encountered an error fetching data for raelgc/scudcloud/ Skipping.\n",
      "404 {u'documentation_url': u'https://developer.github.com/v3', u'message': u'Not Found'}\n",
      "Encountered an error fetching data for StackStorm/st2contrib/tree/master/packs/slack Skipping.\n",
      "404 {u'documentation_url': u'https://developer.github.com/v3', u'message': u'Not Found'}\n",
      "Encountered an error fetching data for grexi/snippets/tree/master/tracslack Skipping.\n",
      "404 {u'documentation_url': u'https://developer.github.com/v3', u'message': u'Not Found'}\n",
      "Encountered an error fetching data for nextupdate/capistrano-slack Skipping.\n",
      "unsupported operand type(s) for +: 'NoneType' and 'str'\n",
      "Encountered an error fetching data for kenjij/lita-slack Skipping.\n",
      "unsupported operand type(s) for +: 'NoneType' and 'str'\n",
      "Encountered an error fetching data for willrax/slightly-weird Skipping.\n",
      "404 {u'documentation_url': u'https://developer.github.com/v3', u'message': u'Not Found'}\n"
     ]
    },
    {
     "name": "stdout",
     "output_type": "stream",
     "text": [
      "(12500, u'IcaliaLabs/tarumi')\n"
     ]
    },
    {
     "name": "stderr",
     "output_type": "stream",
     "text": [
      "Encountered an error fetching data for steinn/slack-hack/ Skipping.\n",
      "404 {u'documentation_url': u'https://developer.github.com/v3', u'message': u'Not Found'}\n"
     ]
    },
    {
     "name": "stdout",
     "output_type": "stream",
     "text": [
      "(12600, u'Symfonisti/awesome-symfony-education')\n"
     ]
    },
    {
     "name": "stderr",
     "output_type": "stream",
     "text": [
      "Encountered an error fetching data for fukuball/Awesome-Laravel-Education/blob/master/langs/en_US.md Skipping.\n",
      "404 {u'documentation_url': u'https://developer.github.com/v3', u'message': u'Not Found'}\n",
      "Encountered an error fetching data for ligurio/free-software-testing-books/blob/master/free-software-testing-books.md Skipping.\n",
      "404 {u'documentation_url': u'https://developer.github.com/v3', u'message': u'Not Found'}\n",
      "Encountered an error fetching data for vinkla/share-links Skipping.\n",
      "unsupported operand type(s) for +: 'NoneType' and 'str'\n"
     ]
    },
    {
     "name": "stdout",
     "output_type": "stream",
     "text": [
      "(12700, u'domenicosolazzo/awesome-okr')\n"
     ]
    },
    {
     "name": "stderr",
     "output_type": "stream",
     "text": [
      "Encountered an error fetching data for RichardLitt/endangered-languages/edit/master/README.md Skipping.\n",
      "404 {u'documentation_url': u'https://developer.github.com/v3', u'message': u'Not Found'}\n",
      "Encountered an error fetching data for RichardLitt/endangered-languages/issues Skipping.\n",
      "unsupported operand type(s) for +: 'NoneType' and 'str'\n",
      "Encountered an error fetching data for dhgarrette/low-resource-pos-tagging-2014/ Skipping.\n",
      "404 {u'documentation_url': u'https://developer.github.com/v3', u'message': u'Not Found'}\n"
     ]
    },
    {
     "name": "stdout",
     "output_type": "stream",
     "text": [
      "(12800, u'stanfordnlp/CoreNLP')\n"
     ]
    },
    {
     "name": "stderr",
     "output_type": "stream",
     "text": [
      "Encountered an error fetching data for proycon/folia/ Skipping.\n",
      "404 {u'documentation_url': u'https://developer.github.com/v3', u'message': u'Not Found'}\n"
     ]
    },
    {
     "name": "stdout",
     "output_type": "stream",
     "text": [
      "(12900, u'dhgarrette/nlp')\n"
     ]
    },
    {
     "name": "stderr",
     "output_type": "stream",
     "text": [
      "Encountered an error fetching data for padams/Open-Web-Analytics/ Skipping.\n",
      "404 {u'documentation_url': u'https://developer.github.com/v3', u'message': u'Not Found'}\n",
      "Encountered an error fetching data for CouchPotato/CouchPotatoServer/ Skipping.\n",
      "404 {u'documentation_url': u'https://developer.github.com/v3', u'message': u'Not Found'}\n",
      "Encountered an error fetching data for sebsauvage/rss-bridge Skipping.\n",
      "unsupported operand type(s) for +: 'NoneType' and 'str'\n",
      "Encountered an error fetching data for SickRage/SickRage/ Skipping.\n",
      "404 {u'documentation_url': u'https://developer.github.com/v3', u'message': u'Not Found'}\n",
      "Encountered an error fetching data for idno/idno Skipping.\n",
      "unsupported operand type(s) for +: 'NoneType' and 'str'\n",
      "Encountered an error fetching data for owncloud/calendar-rework Skipping.\n",
      "unsupported operand type(s) for +: 'NoneType' and 'str'\n"
     ]
    },
    {
     "name": "stdout",
     "output_type": "stream",
     "text": [
      "(13000, u'Kozea/Radicale')\n"
     ]
    },
    {
     "name": "stderr",
     "output_type": "stream",
     "text": [
      "Encountered an error fetching data for jasonmunro/hm3 Skipping.\n",
      "unsupported operand type(s) for +: 'NoneType' and 'str'\n",
      "Encountered an error fetching data for roundcube/roundcubemail/ Skipping.\n",
      "404 {u'documentation_url': u'https://developer.github.com/v3', u'message': u'Not Found'}\n",
      "Encountered an error fetching data for roadiz/roadiz/ Skipping.\n",
      "404 {u'documentation_url': u'https://developer.github.com/v3', u'message': u'Not Found'}\n",
      "Encountered an error fetching data for shoopio/shoop Skipping.\n",
      "unsupported operand type(s) for +: 'NoneType' and 'str'\n",
      "Encountered an error fetching data for tontof/kriss_feed/ Skipping.\n",
      "404 {u'documentation_url': u'https://developer.github.com/v3', u'message': u'Not Found'}\n",
      "Encountered an error fetching data for socketubs/leselys Skipping.\n",
      "unsupported operand type(s) for +: 'NoneType' and 'str'\n"
     ]
    },
    {
     "name": "stdout",
     "output_type": "stream",
     "text": [
      "(13100, u'mauricesvay/moonmoon')\n"
     ]
    },
    {
     "name": "stderr",
     "output_type": "stream",
     "text": [
      "Encountered an error fetching data for ipfspics/server Skipping.\n",
      "unsupported operand type(s) for +: 'NoneType' and 'str'\n",
      "Encountered an error fetching data for abrenaut/posio/ Skipping.\n",
      "404 {u'documentation_url': u'https://developer.github.com/v3', u'message': u'Not Found'}\n",
      "Encountered an error fetching data for liftoff/GateOne/ Skipping.\n",
      "404 {u'documentation_url': u'https://developer.github.com/v3', u'message': u'Not Found'}\n",
      "Encountered an error fetching data for inducer/relate/ Skipping.\n",
      "404 {u'documentation_url': u'https://developer.github.com/v3', u'message': u'Not Found'}\n",
      "Encountered an error fetching data for joemccann/dillinger/ Skipping.\n",
      "404 {u'documentation_url': u'https://developer.github.com/v3', u'message': u'Not Found'}\n",
      "Encountered an error fetching data for gobby/gobby/wiki/Dedicated%20Server Skipping.\n",
      "404 {u'documentation_url': u'https://developer.github.com/v3', u'message': u'Not Found'}\n",
      "Encountered an error fetching data for gobby/gobby/wiki Skipping.\n",
      "404 {u'documentation_url': u'https://developer.github.com/v3', u'message': u'Not Found'}\n"
     ]
    },
    {
     "name": "stdout",
     "output_type": "stream",
     "text": [
      "(13200, u'pklink/ppma')\n"
     ]
    },
    {
     "name": "stderr",
     "output_type": "stream",
     "text": [
      "Encountered an error fetching data for nilsteampassnet/TeamPass/ Skipping.\n",
      "404 {u'documentation_url': u'https://developer.github.com/v3', u'message': u'Not Found'}\n",
      "Encountered an error fetching data for nicksergeant/snipt/ Skipping.\n",
      "404 {u'documentation_url': u'https://developer.github.com/v3', u'message': u'Not Found'}\n",
      "Encountered an error fetching data for elrido/ZeroBin/wiki Skipping.\n",
      "404 {u'documentation_url': u'https://developer.github.com/v3', u'message': u'Not Found'}\n",
      "Encountered an error fetching data for rolandgeider/wger Skipping.\n",
      "unsupported operand type(s) for +: 'NoneType' and 'str'\n",
      "Encountered an error fetching data for joshdick/miniProxy/ Skipping.\n",
      "404 {u'documentation_url': u'https://developer.github.com/v3', u'message': u'Not Found'}\n",
      "Encountered an error fetching data for asciimoo/searx/wiki/Searx-instances Skipping.\n",
      "404 {u'documentation_url': u'https://developer.github.com/v3', u'message': u'Not Found'}\n",
      "Encountered an error fetching data for jonashaag/klaus/ Skipping.\n",
      "404 {u'documentation_url': u'https://developer.github.com/v3', u'message': u'Not Found'}\n",
      "Encountered an error fetching data for gskinner/regexr/ Skipping.\n",
      "404 {u'documentation_url': u'https://developer.github.com/v3', u'message': u'Not Found'}\n",
      "Encountered an error fetching data for rstudio/rstudio/ Skipping.\n",
      "404 {u'documentation_url': u'https://developer.github.com/v3', u'message': u'Not Found'}\n",
      "Encountered an error fetching data for jenkinsci/jenkins/ Skipping.\n",
      "404 {u'documentation_url': u'https://developer.github.com/v3', u'message': u'Not Found'}\n",
      "Encountered an error fetching data for YOURLS/YOURLS/ Skipping.\n",
      "404 {u'documentation_url': u'https://developer.github.com/v3', u'message': u'Not Found'}\n",
      "Encountered an error fetching data for YOURLS/YOURLS/wiki Skipping.\n",
      "404 {u'documentation_url': u'https://developer.github.com/v3', u'message': u'Not Found'}\n",
      "Encountered an error fetching data for sbrl/Pepperminty-Wiki/ Skipping.\n",
      "404 {u'documentation_url': u'https://developer.github.com/v3', u'message': u'Not Found'}\n",
      "Encountered an error fetching data for j8r/DPlatform Skipping.\n",
      "unsupported operand type(s) for +: 'NoneType' and 'str'\n"
     ]
    },
    {
     "name": "stdout",
     "output_type": "stream",
     "text": [
      "(13300, u'sovereign/sovereign')\n"
     ]
    },
    {
     "name": "stderr",
     "output_type": "stream",
     "text": [
      "Encountered an error fetching data for Kickball/awesome-selfhosted/archive/master.zip Skipping.\n",
      "404 {u'documentation_url': u'https://developer.github.com/v3', u'message': u'Not Found'}\n",
      "Encountered an error fetching data for Kickball/awesome-selfhosted/edit/master/README.md Skipping.\n",
      "404 {u'documentation_url': u'https://developer.github.com/v3', u'message': u'Not Found'}\n",
      "Encountered an error fetching data for Kickball/awesome-selfhosted/issues Skipping.\n",
      "unsupported operand type(s) for +: 'NoneType' and 'str'\n",
      "Encountered an error fetching data for Kickball/awesome-selfhosted/pulls Skipping.\n",
      "unsupported operand type(s) for +: 'NoneType' and 'str'\n",
      "Encountered an error fetching data for Kickball/awesome-selfhosted/pulls?utf8=%E2%9C%93&q=is%3Aclosed+ Skipping.\n",
      "unsupported operand type(s) for +: 'NoneType' and 'str'\n",
      "Encountered an error fetching data for gulpjs/plugins/blob/master/src/blackList.json Skipping.\n",
      "404 {u'documentation_url': u'https://developer.github.com/v3', u'message': u'Not Found'}\n",
      "Encountered an error fetching data for gulpjs/gulp/blob/master/docs/getting-started.md Skipping.\n",
      "404 {u'documentation_url': u'https://developer.github.com/v3', u'message': u'Not Found'}\n",
      "Encountered an error fetching data for gulpjs/gulp/blob/master/docs/API.md Skipping.\n",
      "404 {u'documentation_url': u'https://developer.github.com/v3', u'message': u'Not Found'}\n",
      "Encountered an error fetching data for gulpjs/gulp/tree/master/docs#articles Skipping.\n",
      "404 {u'documentation_url': u'https://developer.github.com/v3', u'message': u'Not Found'}\n",
      "Encountered an error fetching data for gulpjs/gulp/blob/master/docs/writing-a-plugin/README.md Skipping.\n",
      "404 {u'documentation_url': u'https://developer.github.com/v3', u'message': u'Not Found'}\n",
      "**OUTPUT MUTED**"
     ]
    }
   ],
   "source": [
    "%%time\n",
    "\n",
    "START_FROM = 0 #index\n",
    "for i, repo_name in enumerate(repos.iloc[START_FROM:][\"repo\"].values):\n",
    "    if ((START_FROM+i) % 100) == 0: \n",
    "        print(START_FROM+i,repo_name)\n",
    "    try:\n",
    "        repo = client.get_repo(repo_name)\n",
    "        repo.raw_data\n",
    "\n",
    "        cache['repos'][repo_name] = repo\n",
    "        \n",
    "        \n",
    "        \n",
    "    except Exception, e: #ssl.SSLError\n",
    "        print >> sys.stderr, \"Encountered an error fetching data for\", \\\n",
    "                             repo_name, \"Skipping.\"\n",
    "        print >> sys.stderr, e\n",
    "\n",
    "    #if ((START_FROM+i) % 100) == 0: print \"Processed\", START_FROM+i+1, \" \", repo_name,\" nodes. Num nodes/edges in graph\", \\\n",
    "    #      g.number_of_nodes(), \"/\", g.number_of_edges()\n",
    "    if client.rate_limiting < 400: print(\"Rate limit remaining\", client.rate_limiting)\n",
    "    \n",
    "nx.write_gpickle(g, \"github.BAK.gpickle\")    \n",
    "pickle.dump( cache, open( \"cache.github.BAK.pickle\", \"wb\" ) )"
   ]
  },
  {
   "cell_type": "code",
   "execution_count": 6,
   "metadata": {
    "collapsed": false
   },
   "outputs": [
    {
     "data": {
      "text/plain": [
       "{u'archive_url': u'https://api.github.com/repos/j0k3r/tourdefrance-slack-bot/{archive_format}{/ref}',\n",
       " u'assignees_url': u'https://api.github.com/repos/j0k3r/tourdefrance-slack-bot/assignees{/user}',\n",
       " u'blobs_url': u'https://api.github.com/repos/j0k3r/tourdefrance-slack-bot/git/blobs{/sha}',\n",
       " u'branches_url': u'https://api.github.com/repos/j0k3r/tourdefrance-slack-bot/branches{/branch}',\n",
       " u'clone_url': u'https://github.com/j0k3r/tourdefrance-slack-bot.git',\n",
       " u'collaborators_url': u'https://api.github.com/repos/j0k3r/tourdefrance-slack-bot/collaborators{/collaborator}',\n",
       " u'comments_url': u'https://api.github.com/repos/j0k3r/tourdefrance-slack-bot/comments{/number}',\n",
       " u'commits_url': u'https://api.github.com/repos/j0k3r/tourdefrance-slack-bot/commits{/sha}',\n",
       " u'compare_url': u'https://api.github.com/repos/j0k3r/tourdefrance-slack-bot/compare/{base}...{head}',\n",
       " u'contents_url': u'https://api.github.com/repos/j0k3r/tourdefrance-slack-bot/contents/{+path}',\n",
       " u'contributors_url': u'https://api.github.com/repos/j0k3r/tourdefrance-slack-bot/contributors',\n",
       " u'created_at': u'2014-07-08T19:52:22Z',\n",
       " u'default_branch': u'master',\n",
       " u'deployments_url': u'https://api.github.com/repos/j0k3r/tourdefrance-slack-bot/deployments',\n",
       " u'description': u'TourDeFranceBot will notify a Slack channel/group for every stage during the Tour de France 2016',\n",
       " u'downloads_url': u'https://api.github.com/repos/j0k3r/tourdefrance-slack-bot/downloads',\n",
       " u'events_url': u'https://api.github.com/repos/j0k3r/tourdefrance-slack-bot/events',\n",
       " u'fork': False,\n",
       " u'forks': 3,\n",
       " u'forks_count': 3,\n",
       " u'forks_url': u'https://api.github.com/repos/j0k3r/tourdefrance-slack-bot/forks',\n",
       " u'full_name': u'j0k3r/tourdefrance-slack-bot',\n",
       " u'git_commits_url': u'https://api.github.com/repos/j0k3r/tourdefrance-slack-bot/git/commits{/sha}',\n",
       " u'git_refs_url': u'https://api.github.com/repos/j0k3r/tourdefrance-slack-bot/git/refs{/sha}',\n",
       " u'git_tags_url': u'https://api.github.com/repos/j0k3r/tourdefrance-slack-bot/git/tags{/sha}',\n",
       " u'git_url': u'git://github.com/j0k3r/tourdefrance-slack-bot.git',\n",
       " u'has_downloads': True,\n",
       " u'has_issues': True,\n",
       " u'has_pages': False,\n",
       " u'has_wiki': False,\n",
       " u'homepage': u'',\n",
       " u'hooks_url': u'https://api.github.com/repos/j0k3r/tourdefrance-slack-bot/hooks',\n",
       " u'html_url': u'https://github.com/j0k3r/tourdefrance-slack-bot',\n",
       " u'id': 21627518,\n",
       " u'issue_comment_url': u'https://api.github.com/repos/j0k3r/tourdefrance-slack-bot/issues/comments{/number}',\n",
       " u'issue_events_url': u'https://api.github.com/repos/j0k3r/tourdefrance-slack-bot/issues/events{/number}',\n",
       " u'issues_url': u'https://api.github.com/repos/j0k3r/tourdefrance-slack-bot/issues{/number}',\n",
       " u'keys_url': u'https://api.github.com/repos/j0k3r/tourdefrance-slack-bot/keys{/key_id}',\n",
       " u'labels_url': u'https://api.github.com/repos/j0k3r/tourdefrance-slack-bot/labels{/name}',\n",
       " u'language': u'PHP',\n",
       " u'languages_url': u'https://api.github.com/repos/j0k3r/tourdefrance-slack-bot/languages',\n",
       " u'merges_url': u'https://api.github.com/repos/j0k3r/tourdefrance-slack-bot/merges',\n",
       " u'milestones_url': u'https://api.github.com/repos/j0k3r/tourdefrance-slack-bot/milestones{/number}',\n",
       " u'mirror_url': None,\n",
       " u'name': u'tourdefrance-slack-bot',\n",
       " u'network_count': 3,\n",
       " u'notifications_url': u'https://api.github.com/repos/j0k3r/tourdefrance-slack-bot/notifications{?since,all,participating}',\n",
       " u'open_issues': 0,\n",
       " u'open_issues_count': 0,\n",
       " u'owner': {u'avatar_url': u'https://avatars.githubusercontent.com/u/62333?v=3',\n",
       "  u'events_url': u'https://api.github.com/users/j0k3r/events{/privacy}',\n",
       "  u'followers_url': u'https://api.github.com/users/j0k3r/followers',\n",
       "  u'following_url': u'https://api.github.com/users/j0k3r/following{/other_user}',\n",
       "  u'gists_url': u'https://api.github.com/users/j0k3r/gists{/gist_id}',\n",
       "  u'gravatar_id': u'',\n",
       "  u'html_url': u'https://github.com/j0k3r',\n",
       "  u'id': 62333,\n",
       "  u'login': u'j0k3r',\n",
       "  u'organizations_url': u'https://api.github.com/users/j0k3r/orgs',\n",
       "  u'received_events_url': u'https://api.github.com/users/j0k3r/received_events',\n",
       "  u'repos_url': u'https://api.github.com/users/j0k3r/repos',\n",
       "  u'site_admin': False,\n",
       "  u'starred_url': u'https://api.github.com/users/j0k3r/starred{/owner}{/repo}',\n",
       "  u'subscriptions_url': u'https://api.github.com/users/j0k3r/subscriptions',\n",
       "  u'type': u'User',\n",
       "  u'url': u'https://api.github.com/users/j0k3r'},\n",
       " u'permissions': {u'admin': False, u'pull': True, u'push': False},\n",
       " u'private': False,\n",
       " u'pulls_url': u'https://api.github.com/repos/j0k3r/tourdefrance-slack-bot/pulls{/number}',\n",
       " u'pushed_at': u'2016-07-22T09:43:35Z',\n",
       " u'releases_url': u'https://api.github.com/repos/j0k3r/tourdefrance-slack-bot/releases{/id}',\n",
       " u'size': 12,\n",
       " u'ssh_url': u'git@github.com:j0k3r/tourdefrance-slack-bot.git',\n",
       " u'stargazers_count': 16,\n",
       " u'stargazers_url': u'https://api.github.com/repos/j0k3r/tourdefrance-slack-bot/stargazers',\n",
       " u'statuses_url': u'https://api.github.com/repos/j0k3r/tourdefrance-slack-bot/statuses/{sha}',\n",
       " u'subscribers_count': 3,\n",
       " u'subscribers_url': u'https://api.github.com/repos/j0k3r/tourdefrance-slack-bot/subscribers',\n",
       " u'subscription_url': u'https://api.github.com/repos/j0k3r/tourdefrance-slack-bot/subscription',\n",
       " u'svn_url': u'https://github.com/j0k3r/tourdefrance-slack-bot',\n",
       " u'tags_url': u'https://api.github.com/repos/j0k3r/tourdefrance-slack-bot/tags',\n",
       " u'teams_url': u'https://api.github.com/repos/j0k3r/tourdefrance-slack-bot/teams',\n",
       " u'trees_url': u'https://api.github.com/repos/j0k3r/tourdefrance-slack-bot/git/trees{/sha}',\n",
       " u'updated_at': u'2016-07-22T09:42:20Z',\n",
       " u'url': u'https://api.github.com/repos/j0k3r/tourdefrance-slack-bot',\n",
       " u'watchers': 16,\n",
       " u'watchers_count': 16}"
      ]
     },
     "execution_count": 6,
     "metadata": {},
     "output_type": "execute_result"
    }
   ],
   "source": [
    "repo = client.get_repo(\"j0k3r/tourdefrance-slack-bot\")\n",
    "repo.raw_data"
   ]
  },
  {
   "cell_type": "code",
   "execution_count": 7,
   "metadata": {
    "collapsed": false
   },
   "outputs": [],
   "source": [
    "ie = repo.get_issues_events()"
   ]
  },
  {
   "cell_type": "code",
   "execution_count": 12,
   "metadata": {
    "collapsed": false
   },
   "outputs": [
    {
     "name": "stdout",
     "output_type": "stream",
     "text": [
      "{u'commit_id': None, u'commit_url': None, u'url': u'https://api.github.com/repos/j0k3r/tourdefrance-slack-bot/issues/events/731539928', u'created_at': u'2016-07-22T09:45:50Z', u'actor': {u'following_url': u'https://api.github.com/users/j0k3r/following{/other_user}', u'events_url': u'https://api.github.com/users/j0k3r/events{/privacy}', u'organizations_url': u'https://api.github.com/users/j0k3r/orgs', u'url': u'https://api.github.com/users/j0k3r', u'gists_url': u'https://api.github.com/users/j0k3r/gists{/gist_id}', u'html_url': u'https://github.com/j0k3r', u'subscriptions_url': u'https://api.github.com/users/j0k3r/subscriptions', u'avatar_url': u'https://avatars.githubusercontent.com/u/62333?v=3', u'repos_url': u'https://api.github.com/users/j0k3r/repos', u'received_events_url': u'https://api.github.com/users/j0k3r/received_events', u'gravatar_id': u'', u'starred_url': u'https://api.github.com/users/j0k3r/starred{/owner}{/repo}', u'site_admin': False, u'login': u'j0k3r', u'type': u'User', u'id': 62333, u'followers_url': u'https://api.github.com/users/j0k3r/followers'}, u'event': u'closed', u'issue': {u'body': u\"I'm assuming this will work without any modifications for TDF2016? :)\", u'labels': [], u'locked': False, u'title': u'TDF2016', u'url': u'https://api.github.com/repos/j0k3r/tourdefrance-slack-bot/issues/3', u'labels_url': u'https://api.github.com/repos/j0k3r/tourdefrance-slack-bot/issues/3/labels{/name}', u'created_at': u'2016-05-16T16:01:46Z', u'events_url': u'https://api.github.com/repos/j0k3r/tourdefrance-slack-bot/issues/3/events', u'comments_url': u'https://api.github.com/repos/j0k3r/tourdefrance-slack-bot/issues/3/comments', u'html_url': u'https://github.com/j0k3r/tourdefrance-slack-bot/issues/3', u'comments': 8, u'number': 3, u'updated_at': u'2016-07-22T09:45:50Z', u'assignee': None, u'state': u'closed', u'user': {u'following_url': u'https://api.github.com/users/Skarzee/following{/other_user}', u'events_url': u'https://api.github.com/users/Skarzee/events{/privacy}', u'organizations_url': u'https://api.github.com/users/Skarzee/orgs', u'url': u'https://api.github.com/users/Skarzee', u'gists_url': u'https://api.github.com/users/Skarzee/gists{/gist_id}', u'html_url': u'https://github.com/Skarzee', u'subscriptions_url': u'https://api.github.com/users/Skarzee/subscriptions', u'avatar_url': u'https://avatars.githubusercontent.com/u/5827304?v=3', u'repos_url': u'https://api.github.com/users/Skarzee/repos', u'received_events_url': u'https://api.github.com/users/Skarzee/received_events', u'gravatar_id': u'', u'starred_url': u'https://api.github.com/users/Skarzee/starred{/owner}{/repo}', u'site_admin': False, u'login': u'Skarzee', u'type': u'User', u'id': 5827304, u'followers_url': u'https://api.github.com/users/Skarzee/followers'}, u'milestone': None, u'repository_url': u'https://api.github.com/repos/j0k3r/tourdefrance-slack-bot', u'closed_at': u'2016-07-22T09:45:50Z', u'assignees': [], u'id': 155061286}, u'id': 731539928}\n",
      "{u'commit_id': u'7b501b4420da5fc65d719ecd8897f8864d575f4c', u'commit_url': u'https://api.github.com/repos/j0k3r/tourdefrance-slack-bot/commits/7b501b4420da5fc65d719ecd8897f8864d575f4c', u'url': u'https://api.github.com/repos/j0k3r/tourdefrance-slack-bot/issues/events/731529142', u'created_at': u'2016-07-22T09:36:19Z', u'actor': {u'following_url': u'https://api.github.com/users/j0k3r/following{/other_user}', u'events_url': u'https://api.github.com/users/j0k3r/events{/privacy}', u'organizations_url': u'https://api.github.com/users/j0k3r/orgs', u'url': u'https://api.github.com/users/j0k3r', u'gists_url': u'https://api.github.com/users/j0k3r/gists{/gist_id}', u'html_url': u'https://github.com/j0k3r', u'subscriptions_url': u'https://api.github.com/users/j0k3r/subscriptions', u'avatar_url': u'https://avatars.githubusercontent.com/u/62333?v=3', u'repos_url': u'https://api.github.com/users/j0k3r/repos', u'received_events_url': u'https://api.github.com/users/j0k3r/received_events', u'gravatar_id': u'', u'starred_url': u'https://api.github.com/users/j0k3r/starred{/owner}{/repo}', u'site_admin': False, u'login': u'j0k3r', u'type': u'User', u'id': 62333, u'followers_url': u'https://api.github.com/users/j0k3r/followers'}, u'event': u'referenced', u'issue': {u'labels': [], u'number': 4, u'assignee': None, u'repository_url': u'https://api.github.com/repos/j0k3r/tourdefrance-slack-bot', u'closed_at': u'2016-07-22T09:36:19Z', u'id': 166762693, u'title': u'TDF2016', u'pull_request': {u'url': u'https://api.github.com/repos/j0k3r/tourdefrance-slack-bot/pulls/4', u'diff_url': u'https://github.com/j0k3r/tourdefrance-slack-bot/pull/4.diff', u'html_url': u'https://github.com/j0k3r/tourdefrance-slack-bot/pull/4', u'patch_url': u'https://github.com/j0k3r/tourdefrance-slack-bot/pull/4.patch'}, u'comments': 3, u'state': u'closed', u'body': u'Have never raised a PR before so not sure how this all works. I have just pushed everything I have to my repo after redacting the API key. ', u'labels_url': u'https://api.github.com/repos/j0k3r/tourdefrance-slack-bot/issues/4/labels{/name}', u'events_url': u'https://api.github.com/repos/j0k3r/tourdefrance-slack-bot/issues/4/events', u'comments_url': u'https://api.github.com/repos/j0k3r/tourdefrance-slack-bot/issues/4/comments', u'html_url': u'https://github.com/j0k3r/tourdefrance-slack-bot/pull/4', u'updated_at': u'2016-07-22T09:45:59Z', u'user': {u'following_url': u'https://api.github.com/users/cuotos/following{/other_user}', u'events_url': u'https://api.github.com/users/cuotos/events{/privacy}', u'organizations_url': u'https://api.github.com/users/cuotos/orgs', u'url': u'https://api.github.com/users/cuotos', u'gists_url': u'https://api.github.com/users/cuotos/gists{/gist_id}', u'html_url': u'https://github.com/cuotos', u'subscriptions_url': u'https://api.github.com/users/cuotos/subscriptions', u'avatar_url': u'https://avatars.githubusercontent.com/u/3035161?v=3', u'repos_url': u'https://api.github.com/users/cuotos/repos', u'received_events_url': u'https://api.github.com/users/cuotos/received_events', u'gravatar_id': u'', u'starred_url': u'https://api.github.com/users/cuotos/starred{/owner}{/repo}', u'site_admin': False, u'login': u'cuotos', u'type': u'User', u'id': 3035161, u'followers_url': u'https://api.github.com/users/cuotos/followers'}, u'milestone': None, u'locked': False, u'url': u'https://api.github.com/repos/j0k3r/tourdefrance-slack-bot/issues/4', u'created_at': u'2016-07-21T08:19:30Z', u'assignees': []}, u'id': 731529142}\n"
     ]
    }
   ],
   "source": [
    "for e in ie[:2]:\n",
    "    print(e.raw_data)"
   ]
  },
  {
   "cell_type": "code",
   "execution_count": 36,
   "metadata": {
    "collapsed": false
   },
   "outputs": [],
   "source": [
    "cols = repo.get_stats_contributors()"
   ]
  },
  {
   "cell_type": "code",
   "execution_count": 37,
   "metadata": {
    "collapsed": false
   },
   "outputs": [
    {
     "data": {
      "text/plain": [
       "[<github.StatsContributor.StatsContributor at 0x7f914ec3e590>,\n",
       " <github.StatsContributor.StatsContributor at 0x7f914ec3e610>,\n",
       " <github.StatsContributor.StatsContributor at 0x7f914e56ca90>]"
      ]
     },
     "execution_count": 37,
     "metadata": {},
     "output_type": "execute_result"
    }
   ],
   "source": [
    "cols"
   ]
  },
  {
   "cell_type": "code",
   "execution_count": 38,
   "metadata": {
    "collapsed": false
   },
   "outputs": [
    {
     "name": "stdout",
     "output_type": "stream",
     "text": [
      "{u'weeks': [{u'a': 0, u'c': 0, u'd': 0, u'w': 1404604800}, {u'a': 0, u'c': 0, u'd': 0, u'w': 1405209600}, {u'a': 0, u'c': 0, u'd': 0, u'w': 1405814400}, {u'a': 0, u'c': 0, u'd': 0, u'w': 1406419200}, {u'a': 0, u'c': 0, u'd': 0, u'w': 1407024000}, {u'a': 0, u'c': 0, u'd': 0, u'w': 1407628800}, {u'a': 0, u'c': 0, u'd': 0, u'w': 1408233600}, {u'a': 0, u'c': 0, u'd': 0, u'w': 1408838400}, {u'a': 0, u'c': 0, u'd': 0, u'w': 1409443200}, {u'a': 0, u'c': 0, u'd': 0, u'w': 1410048000}, {u'a': 0, u'c': 0, u'd': 0, u'w': 1410652800}, {u'a': 0, u'c': 0, u'd': 0, u'w': 1411257600}, {u'a': 0, u'c': 0, u'd': 0, u'w': 1411862400}, {u'a': 0, u'c': 0, u'd': 0, u'w': 1412467200}, {u'a': 0, u'c': 0, u'd': 0, u'w': 1413072000}, {u'a': 0, u'c': 0, u'd': 0, u'w': 1413676800}, {u'a': 0, u'c': 0, u'd': 0, u'w': 1414281600}, {u'a': 0, u'c': 0, u'd': 0, u'w': 1414886400}, {u'a': 0, u'c': 0, u'd': 0, u'w': 1415491200}, {u'a': 0, u'c': 0, u'd': 0, u'w': 1416096000}, {u'a': 0, u'c': 0, u'd': 0, u'w': 1416700800}, {u'a': 0, u'c': 0, u'd': 0, u'w': 1417305600}, {u'a': 0, u'c': 0, u'd': 0, u'w': 1417910400}, {u'a': 0, u'c': 0, u'd': 0, u'w': 1418515200}, {u'a': 0, u'c': 0, u'd': 0, u'w': 1419120000}, {u'a': 0, u'c': 0, u'd': 0, u'w': 1419724800}, {u'a': 0, u'c': 0, u'd': 0, u'w': 1420329600}, {u'a': 0, u'c': 0, u'd': 0, u'w': 1420934400}, {u'a': 0, u'c': 0, u'd': 0, u'w': 1421539200}, {u'a': 0, u'c': 0, u'd': 0, u'w': 1422144000}, {u'a': 0, u'c': 0, u'd': 0, u'w': 1422748800}, {u'a': 0, u'c': 0, u'd': 0, u'w': 1423353600}, {u'a': 0, u'c': 0, u'd': 0, u'w': 1423958400}, {u'a': 0, u'c': 0, u'd': 0, u'w': 1424563200}, {u'a': 0, u'c': 0, u'd': 0, u'w': 1425168000}, {u'a': 0, u'c': 0, u'd': 0, u'w': 1425772800}, {u'a': 0, u'c': 0, u'd': 0, u'w': 1426377600}, {u'a': 0, u'c': 0, u'd': 0, u'w': 1426982400}, {u'a': 0, u'c': 0, u'd': 0, u'w': 1427587200}, {u'a': 0, u'c': 0, u'd': 0, u'w': 1428192000}, {u'a': 0, u'c': 0, u'd': 0, u'w': 1428796800}, {u'a': 0, u'c': 0, u'd': 0, u'w': 1429401600}, {u'a': 0, u'c': 0, u'd': 0, u'w': 1430006400}, {u'a': 0, u'c': 0, u'd': 0, u'w': 1430611200}, {u'a': 0, u'c': 0, u'd': 0, u'w': 1431216000}, {u'a': 0, u'c': 0, u'd': 0, u'w': 1431820800}, {u'a': 0, u'c': 0, u'd': 0, u'w': 1432425600}, {u'a': 0, u'c': 0, u'd': 0, u'w': 1433030400}, {u'a': 0, u'c': 0, u'd': 0, u'w': 1433635200}, {u'a': 0, u'c': 0, u'd': 0, u'w': 1434240000}, {u'a': 0, u'c': 0, u'd': 0, u'w': 1434844800}, {u'a': 0, u'c': 0, u'd': 0, u'w': 1435449600}, {u'a': 2, u'c': 1, u'd': 2, u'w': 1436054400}, {u'a': 0, u'c': 0, u'd': 0, u'w': 1436659200}, {u'a': 0, u'c': 0, u'd': 0, u'w': 1437264000}, {u'a': 0, u'c': 0, u'd': 0, u'w': 1437868800}, {u'a': 0, u'c': 0, u'd': 0, u'w': 1438473600}, {u'a': 0, u'c': 0, u'd': 0, u'w': 1439078400}, {u'a': 0, u'c': 0, u'd': 0, u'w': 1439683200}, {u'a': 0, u'c': 0, u'd': 0, u'w': 1440288000}, {u'a': 0, u'c': 0, u'd': 0, u'w': 1440892800}, {u'a': 0, u'c': 0, u'd': 0, u'w': 1441497600}, {u'a': 0, u'c': 0, u'd': 0, u'w': 1442102400}, {u'a': 0, u'c': 0, u'd': 0, u'w': 1442707200}, {u'a': 0, u'c': 0, u'd': 0, u'w': 1443312000}, {u'a': 0, u'c': 0, u'd': 0, u'w': 1443916800}, {u'a': 0, u'c': 0, u'd': 0, u'w': 1444521600}, {u'a': 0, u'c': 0, u'd': 0, u'w': 1445126400}, {u'a': 0, u'c': 0, u'd': 0, u'w': 1445731200}, {u'a': 0, u'c': 0, u'd': 0, u'w': 1446336000}, {u'a': 0, u'c': 0, u'd': 0, u'w': 1446940800}, {u'a': 0, u'c': 0, u'd': 0, u'w': 1447545600}, {u'a': 0, u'c': 0, u'd': 0, u'w': 1448150400}, {u'a': 0, u'c': 0, u'd': 0, u'w': 1448755200}, {u'a': 0, u'c': 0, u'd': 0, u'w': 1449360000}, {u'a': 0, u'c': 0, u'd': 0, u'w': 1449964800}, {u'a': 0, u'c': 0, u'd': 0, u'w': 1450569600}, {u'a': 0, u'c': 0, u'd': 0, u'w': 1451174400}, {u'a': 0, u'c': 0, u'd': 0, u'w': 1451779200}, {u'a': 0, u'c': 0, u'd': 0, u'w': 1452384000}, {u'a': 0, u'c': 0, u'd': 0, u'w': 1452988800}, {u'a': 0, u'c': 0, u'd': 0, u'w': 1453593600}, {u'a': 0, u'c': 0, u'd': 0, u'w': 1454198400}, {u'a': 0, u'c': 0, u'd': 0, u'w': 1454803200}, {u'a': 0, u'c': 0, u'd': 0, u'w': 1455408000}, {u'a': 0, u'c': 0, u'd': 0, u'w': 1456012800}, {u'a': 0, u'c': 0, u'd': 0, u'w': 1456617600}, {u'a': 0, u'c': 0, u'd': 0, u'w': 1457222400}, {u'a': 0, u'c': 0, u'd': 0, u'w': 1457827200}, {u'a': 0, u'c': 0, u'd': 0, u'w': 1458432000}, {u'a': 0, u'c': 0, u'd': 0, u'w': 1459036800}, {u'a': 0, u'c': 0, u'd': 0, u'w': 1459641600}, {u'a': 0, u'c': 0, u'd': 0, u'w': 1460246400}, {u'a': 0, u'c': 0, u'd': 0, u'w': 1460851200}, {u'a': 0, u'c': 0, u'd': 0, u'w': 1461456000}, {u'a': 0, u'c': 0, u'd': 0, u'w': 1462060800}, {u'a': 0, u'c': 0, u'd': 0, u'w': 1462665600}, {u'a': 0, u'c': 0, u'd': 0, u'w': 1463270400}, {u'a': 0, u'c': 0, u'd': 0, u'w': 1463875200}, {u'a': 0, u'c': 0, u'd': 0, u'w': 1464480000}, {u'a': 0, u'c': 0, u'd': 0, u'w': 1465084800}, {u'a': 0, u'c': 0, u'd': 0, u'w': 1465689600}, {u'a': 0, u'c': 0, u'd': 0, u'w': 1466294400}, {u'a': 0, u'c': 0, u'd': 0, u'w': 1466899200}, {u'a': 0, u'c': 0, u'd': 0, u'w': 1467504000}, {u'a': 0, u'c': 0, u'd': 0, u'w': 1468108800}, {u'a': 0, u'c': 0, u'd': 0, u'w': 1468713600}, {u'a': 0, u'c': 0, u'd': 0, u'w': 1469318400}, {u'a': 0, u'c': 0, u'd': 0, u'w': 1469923200}, {u'a': 0, u'c': 0, u'd': 0, u'w': 1470528000}, {u'a': 0, u'c': 0, u'd': 0, u'w': 1471132800}, {u'a': 0, u'c': 0, u'd': 0, u'w': 1471737600}, {u'a': 0, u'c': 0, u'd': 0, u'w': 1472342400}, {u'a': 0, u'c': 0, u'd': 0, u'w': 1472947200}], u'total': 1, u'author': {u'following_url': u'https://api.github.com/users/pyrech/following{/other_user}', u'events_url': u'https://api.github.com/users/pyrech/events{/privacy}', u'organizations_url': u'https://api.github.com/users/pyrech/orgs', u'url': u'https://api.github.com/users/pyrech', u'gists_url': u'https://api.github.com/users/pyrech/gists{/gist_id}', u'html_url': u'https://github.com/pyrech', u'subscriptions_url': u'https://api.github.com/users/pyrech/subscriptions', u'avatar_url': u'https://avatars.githubusercontent.com/u/2021641?v=3', u'repos_url': u'https://api.github.com/users/pyrech/repos', u'received_events_url': u'https://api.github.com/users/pyrech/received_events', u'gravatar_id': u'', u'starred_url': u'https://api.github.com/users/pyrech/starred{/owner}{/repo}', u'site_admin': False, u'login': u'pyrech', u'type': u'User', u'id': 2021641, u'followers_url': u'https://api.github.com/users/pyrech/followers'}}\n",
      "{u'weeks': [{u'a': 0, u'c': 0, u'd': 0, u'w': 1404604800}, {u'a': 0, u'c': 0, u'd': 0, u'w': 1405209600}, {u'a': 0, u'c': 0, u'd': 0, u'w': 1405814400}, {u'a': 0, u'c': 0, u'd': 0, u'w': 1406419200}, {u'a': 0, u'c': 0, u'd': 0, u'w': 1407024000}, {u'a': 0, u'c': 0, u'd': 0, u'w': 1407628800}, {u'a': 0, u'c': 0, u'd': 0, u'w': 1408233600}, {u'a': 0, u'c': 0, u'd': 0, u'w': 1408838400}, {u'a': 0, u'c': 0, u'd': 0, u'w': 1409443200}, {u'a': 0, u'c': 0, u'd': 0, u'w': 1410048000}, {u'a': 0, u'c': 0, u'd': 0, u'w': 1410652800}, {u'a': 0, u'c': 0, u'd': 0, u'w': 1411257600}, {u'a': 0, u'c': 0, u'd': 0, u'w': 1411862400}, {u'a': 0, u'c': 0, u'd': 0, u'w': 1412467200}, {u'a': 0, u'c': 0, u'd': 0, u'w': 1413072000}, {u'a': 0, u'c': 0, u'd': 0, u'w': 1413676800}, {u'a': 0, u'c': 0, u'd': 0, u'w': 1414281600}, {u'a': 0, u'c': 0, u'd': 0, u'w': 1414886400}, {u'a': 0, u'c': 0, u'd': 0, u'w': 1415491200}, {u'a': 0, u'c': 0, u'd': 0, u'w': 1416096000}, {u'a': 0, u'c': 0, u'd': 0, u'w': 1416700800}, {u'a': 0, u'c': 0, u'd': 0, u'w': 1417305600}, {u'a': 0, u'c': 0, u'd': 0, u'w': 1417910400}, {u'a': 0, u'c': 0, u'd': 0, u'w': 1418515200}, {u'a': 0, u'c': 0, u'd': 0, u'w': 1419120000}, {u'a': 0, u'c': 0, u'd': 0, u'w': 1419724800}, {u'a': 0, u'c': 0, u'd': 0, u'w': 1420329600}, {u'a': 0, u'c': 0, u'd': 0, u'w': 1420934400}, {u'a': 0, u'c': 0, u'd': 0, u'w': 1421539200}, {u'a': 0, u'c': 0, u'd': 0, u'w': 1422144000}, {u'a': 0, u'c': 0, u'd': 0, u'w': 1422748800}, {u'a': 0, u'c': 0, u'd': 0, u'w': 1423353600}, {u'a': 0, u'c': 0, u'd': 0, u'w': 1423958400}, {u'a': 0, u'c': 0, u'd': 0, u'w': 1424563200}, {u'a': 0, u'c': 0, u'd': 0, u'w': 1425168000}, {u'a': 0, u'c': 0, u'd': 0, u'w': 1425772800}, {u'a': 0, u'c': 0, u'd': 0, u'w': 1426377600}, {u'a': 0, u'c': 0, u'd': 0, u'w': 1426982400}, {u'a': 0, u'c': 0, u'd': 0, u'w': 1427587200}, {u'a': 0, u'c': 0, u'd': 0, u'w': 1428192000}, {u'a': 0, u'c': 0, u'd': 0, u'w': 1428796800}, {u'a': 0, u'c': 0, u'd': 0, u'w': 1429401600}, {u'a': 0, u'c': 0, u'd': 0, u'w': 1430006400}, {u'a': 0, u'c': 0, u'd': 0, u'w': 1430611200}, {u'a': 0, u'c': 0, u'd': 0, u'w': 1431216000}, {u'a': 0, u'c': 0, u'd': 0, u'w': 1431820800}, {u'a': 0, u'c': 0, u'd': 0, u'w': 1432425600}, {u'a': 0, u'c': 0, u'd': 0, u'w': 1433030400}, {u'a': 0, u'c': 0, u'd': 0, u'w': 1433635200}, {u'a': 0, u'c': 0, u'd': 0, u'w': 1434240000}, {u'a': 0, u'c': 0, u'd': 0, u'w': 1434844800}, {u'a': 0, u'c': 0, u'd': 0, u'w': 1435449600}, {u'a': 0, u'c': 0, u'd': 0, u'w': 1436054400}, {u'a': 0, u'c': 0, u'd': 0, u'w': 1436659200}, {u'a': 0, u'c': 0, u'd': 0, u'w': 1437264000}, {u'a': 0, u'c': 0, u'd': 0, u'w': 1437868800}, {u'a': 0, u'c': 0, u'd': 0, u'w': 1438473600}, {u'a': 0, u'c': 0, u'd': 0, u'w': 1439078400}, {u'a': 0, u'c': 0, u'd': 0, u'w': 1439683200}, {u'a': 0, u'c': 0, u'd': 0, u'w': 1440288000}, {u'a': 0, u'c': 0, u'd': 0, u'w': 1440892800}, {u'a': 0, u'c': 0, u'd': 0, u'w': 1441497600}, {u'a': 0, u'c': 0, u'd': 0, u'w': 1442102400}, {u'a': 0, u'c': 0, u'd': 0, u'w': 1442707200}, {u'a': 0, u'c': 0, u'd': 0, u'w': 1443312000}, {u'a': 0, u'c': 0, u'd': 0, u'w': 1443916800}, {u'a': 0, u'c': 0, u'd': 0, u'w': 1444521600}, {u'a': 0, u'c': 0, u'd': 0, u'w': 1445126400}, {u'a': 0, u'c': 0, u'd': 0, u'w': 1445731200}, {u'a': 0, u'c': 0, u'd': 0, u'w': 1446336000}, {u'a': 0, u'c': 0, u'd': 0, u'w': 1446940800}, {u'a': 0, u'c': 0, u'd': 0, u'w': 1447545600}, {u'a': 0, u'c': 0, u'd': 0, u'w': 1448150400}, {u'a': 0, u'c': 0, u'd': 0, u'w': 1448755200}, {u'a': 0, u'c': 0, u'd': 0, u'w': 1449360000}, {u'a': 0, u'c': 0, u'd': 0, u'w': 1449964800}, {u'a': 0, u'c': 0, u'd': 0, u'w': 1450569600}, {u'a': 0, u'c': 0, u'd': 0, u'w': 1451174400}, {u'a': 0, u'**OUTPUT MUTED**"
     ]
    }
   ],
   "source": [
    "for c in cols[:2]:\n",
    "    print(c.raw_data)"
   ]
  },
  {
   "cell_type": "code",
   "execution_count": 10,
   "metadata": {
    "collapsed": true
   },
   "outputs": [],
   "source": [
    "nx.write_gpickle(g, \"github.LONG5.gpickle\")"
   ]
  },
  {
   "cell_type": "code",
   "execution_count": 62,
   "metadata": {
    "collapsed": false
   },
   "outputs": [],
   "source": [
    "mtsw_users = [n for n in g if g.node[n]['type'] == 'user']\n",
    "h = g.subgraph(mtsw_users)\n",
    "\n",
    "#nx.write_gexf(h, \"github2.gexf\")\n",
    "#nx.write_gml(h, \"github2.gml\")\n",
    "nx.write_graphml(h, \"github1770.graphml\")"
   ]
  },
  {
   "cell_type": "code",
   "execution_count": 101,
   "metadata": {
    "collapsed": false
   },
   "outputs": [],
   "source": [
    "res = []\n",
    "for name, _repo in cache[\"repos\"].iteritems():\n",
    "    df = json_normalize(_repo.raw_data)\n",
    "    res.append(df)\n",
    "repos_df = pd.concat(res, ignore_index=True)"
   ]
  },
  {
   "cell_type": "code",
   "execution_count": 102,
   "metadata": {
    "collapsed": false
   },
   "outputs": [
    {
     "data": {
      "text/plain": [
       "(u'MADEAPPS/newton-dynamics', <github.Repository.Repository at 0x7f35a745b250>)"
      ]
     },
     "execution_count": 102,
     "metadata": {},
     "output_type": "execute_result"
    }
   ],
   "source": [
    "cache[\"repos\"].iteritems().next()"
   ]
  },
  {
   "cell_type": "code",
   "execution_count": 103,
   "metadata": {
    "collapsed": false
   },
   "outputs": [],
   "source": [
    "repos_df.to_csv(\"repos8087.csv\", encoding=\"utf-8\")"
   ]
  },
  {
   "cell_type": "markdown",
   "metadata": {},
   "source": [
    "Encountered an error fetching data for substack/stream-combiner2 Skipping.\n",
    "('_ssl.c:565: The handshake operation timed out',)\n",
    "Encountered an error fetching data for nodejs/readable-stream Skipping.\n",
    "timed out\n",
    "Encountered an error fetching data for almost/through2-concurrent Skipping.\n",
    "timed out\n",
    "Encountered an error fetching data for sockjs/sockjs-node Skipping.\n",
    "timed out\n",
    "Encountered an error fetching data for SocketCluster/socketcluster Skipping.\n",
    "timed out\n",
    "Encountered an error fetching data for primus/primus Skipping.\n",
    "timed out\n",
    "Encountered an error fetching data for simonswain/straw Skipping.\n",
    "timed out\n",
    "Encountered an error fetching data for fed135/Kalm Skipping.\n",
    "timed out\n",
    "Encountered an error fetching data for lovell/sharp Skipping.\n",
    "timed out\n",
    "Encountered an error fetching data for sindresorhus/image-type Skipping.\n",
    "timed out\n",
    "Encountered an error fetching data for aheckmann/gm Skipping.\n",
    "timed out\n",
    "Encountered an error fetching data for EyalAr/lwip Skipping.\n",
    "timed out\n",
    "Encountered an error fetching data for nodeca/pica Skipping.\n",
    "timed out\n",
    "Encountered an error fetching data for sindresorhus/is-progressive Skipping.\n",
    "timed out\n",
    "Encountered an error fetching data for nodeca/probe-image-size Skipping.\n",
    "timed out\n",
    "Encountered an error fetching data for epeli/underscore.string Skipping.\n",
    "timed out\n",
    "Encountered an error fetching data for ashtuchkin/iconv-lite Skipping.\n",
    "timed out\n",
    "Encountered an error fetching data for sindresorhus/repeating Skipping.\n",
    "timed out\n",
    "Encountered an error fetching data for sindresorhus/string-length Skipping.\n",
    "timed out\n",
    "Encountered an error fetching data for sindresorhus/camelcase Skipping.\n",
    "timed out\n",
    "Encountered an error fetching data for sindresorhus/escape-string-regexp Skipping.\n",
    "timed out\n",
    "Encountered an error fetching data for sindresorhus/execall Skipping.\n",
    "timed out\n",
    "Encountered an error fetching data for sindresorhus/splice-string Skipping.\n",
    "timed out\n",
    "Encountered an error fetching data for sindresorhus/indent-string Skipping.\n",
    "timed out\n",
    "Encountered an error fetching data for sindresorhus/strip-indent Skipping.\n",
    "timed out\n",
    "Encountered an error fetching data for sindresorhus/detect-indent Skipping.\n",
    "timed out\n",
    "Encountered an error fetching data for mathiasbynens/he Skipping.\n",
    "timed out\n",
    "Encountered an error fetching data for mashpie/i18n-node Skipping.\n",
    "timed out\n",
    "Encountered an error fetching data for nodeca/babelfish Skipping.\n",
    "timed out\n",
    "Encountered an error fetching data for sindresorhus/parse-columns Skipping.\n",
    "timed out\n",
    "Encountered an error fetching data for codekirei/hanging-indent Skipping.\n",
    "timed out\n",
    "Encountered an error fetching data for sindresorhus/matcher Skipping.\n",
    "timed out\n",
    "Encountered an error fetching data for sindresorhus/random-int Skipping.\n",
    "timed out\n",
    "Encountered an error fetching data for sindresorhus/random-float Skipping.\n",
    "timed out\n",
    "Encountered an error fetching data for sindresorhus/unique-random Skipping.\n",
    "timed out\n",
    "Encountered an error fetching data for sindresorhus/round-to Skipping.\n",
    "timed out\n",
    "Encountered an error fetching data for scijs/ndarray Skipping.\n",
    "timed out\n",
    "Encountered an error fetching data for josdejong/mathjs Skipping.\n",
    "timed out\n",
    "Encountered an error fetching data for sindresorhus/math-sum Skipping.\n",
    "timed out\n",
    "Encountered an error fetching data for sindresorhus/math-clamp Skipping.\n",
    "timed out\n",
    "Encountered an error fetching data for fibo/algebra Skipping.\n",
    "timed out\n",
    "Encountered an error fetching data for felixge/node-dateformat Skipping.\n",
    "timed out\n",
    "Encountered an error fetching data for samverschueren/tz-format Skipping.\n",
    "timed out\n",
    "Encountered an error fetching data for sindresorhus/normalize-url Skipping.\n",
    "timed out\n",
    "Encountered an error fetching data for sindresorhus/humanize-url Skipping.\n",
    "timed out\n",
    "Encountered an error fetching data for nodeca/url-unshort Skipping.\n",
    "timed out\n",
    "Encountered an error fetching data for pid/speakingurl Skipping.\n",
    "timed out\n",
    "Encountered an error fetching data for snd/url-pattern Skipping.\n",
    "timed out\n",
    "In [58]:\n",
    "Encountered an error fetching data for wooorm/remark Skipping.\n",
    "('The read operation timed out',)\n",
    "Encountered an error fetching data for inikulin/parse5 Skipping.\n",
    "timed out\n",
    "Encountered an error fetching data for sindresorhus/strip-json-comments Skipping.\n",
    "timed out\n",
    "Encountered an error fetching data for sindresorhus/strip-css-comments Skipping.\n",
    "timed out\n",
    "Encountered an error fetching data for sindresorhus/parse-json Skipping.\n",
    "timed out\n",
    "Encountered an error fetching data for medialize/URI.js Skipping.\n",
    "timed out\n",
    "Encountered an error fetching data for postcss/postcss Skipping.\n",
    "timed out\n",
    "Encountered an error fetching data for dominictarr/JSONStream Skipping.\n",
    "timed out\n",
    "Encountered an error fetching data for mafintosh/csv-parser Skipping.\n",
    "timed out\n",
    "Encountered an error fetching data for sindresorhus/neat-csv Skipping.\n",
    "timed out\n",
    "Encountered an error fetching data for pegjs/pegjs Skipping.\n",
    "timed out\n",
    "Encountered an error fetching data for lapwinglabs/x-ray Skipping.\n",
    "timed out\n",
    "Encountered an error fetching data for Hardmath123/nearley Skipping.\n",
    "timed out\n",
    "Encountered an error fetching data for juliangruber/binary-extract Skipping.\n",
    "timed out\n",
    "Encountered an error fetching data for nemtsov/json-mask Skipping.\n",
    "timed out\n",
    "Encountered an error fetching data for stylecow/stylecow Skipping.\n",
    "timed out\n",
    "Encountered an error fetching data for nodeca/js-yaml Skipping.\n",
    "timed out\n",
    "Encountered an error fetching data for dominictarr/excel-stream Skipping.\n",
    "timed out\n",
    "Encountered an error fetching data for seegno/google-libphonenumber Skipping.\n",
    "timed out\n",
    "Encountered an error fetching data for sindresorhus/pretty-bytes Skipping.\n",
    "timed out\n",
    "Encountered an error fetching data for sindresorhus/pretty-ms Skipping.\n",
    "timed out\n",
    "Encountered an error fetching data for rauchg/ms.js Skipping.\n",
    "timed out\n",
    "Encountered an error fetching data for AriaMinaei/pretty-error Skipping.\n",
    "timed out\n",
    "Encountered an error fetching data for taijinlee/humanize Skipping.\n",
    "timed out\n",
    "Encountered an error fetching data for archiverjs/node-archiver Skipping.\n",
    "('_ssl.c:565: The handshake operation timed out',)\n",
    "Encountered an error fetching data for bower/decompress-zip Skipping.\n",
    "timed out\n",
    "Encountered an error fetching data for nodeca/pako Skipping.\n",
    "timed out\n",
    "Encountered an error fetching data for mafintosh/tar-stream Skipping.\n",
    "timed out\n",
    "Encountered an error fetching data for mafintosh/tar-fs Skipping.\n",
    "timed out\n",
    "Encountered an error fetching data for kevva/decompress Skipping.\n",
    "timed out\n",
    "\n",
    "\n",
    "Encountered an error fetching data for nodeca/pako Skipping.\n",
    "timed out\n",
    "Encountered an error fetching data for mafintosh/tar-stream Skipping.\n",
    "timed out\n",
    "Encountered an error fetching data for mafintosh/tar-fs Skipping.\n",
    "timed out\n",
    "Encountered an error fetching data for kevva/decompress Skipping.\n",
    "timed out\n",
    "Encountered an error fetching data for Level/levelup Skipping.\n",
    "('_ssl.c:565: The handshake operation timed out',)\n",
    "Encountered an error fetching data for mongodb/node-mongodb-native Skipping.\n",
    "timed out\n",
    "Encountered an error fetching data for felixge/node-mysql Skipping.\n",
    "unsupported operand type(s) for +: 'NoneType' and 'str'\n",
    "(300, u'aerospike/aerospike-client-nodejs')\n",
    "Encountered an error fetching data for balderdashy/waterline Skipping.\n",
    "('The read operation timed out',)\n",
    "Encountered an error fetching data for SierraSoftworks/Iridium Skipping.\n",
    "timed out\n",
    "Encountered an error fetching data for PhilWaldmann/openrecord Skipping.\n",
    "timed out\n",
    "Encountered an error fetching data for isaacs/node-tap Skipping.\n",
    "unsupported operand type(s) for +: 'NoneType' and 'str'\n",
    "Encountered an error fetching data for substack/tape Skipping.\n",
    "('_ssl.c:565: The handshake operation timed out',)\n",
    "Encountered an error fetching data for mantoni/mochify.js Skipping.\n",
    "timed out\n",
    "Encountered an error fetching data for gotwarlost/istanbul Skipping.\n",
    "('The read operation timed out',)\n",
    "Encountered an error fetching data for bcoe/nyc Skipping.\n",
    "timed out\n",
    "Encountered an error fetching data for sinonjs/sinon Skipping.\n",
    "('The read operation timed out',)\n",
    "Encountered an error fetching data for nodeca/navit Skipping.\n",
    "timed out\n",
    "Encountered an error fetching data for theintern/intern Skipping.\n",
    "timed out"
   ]
  },
  {
   "cell_type": "markdown",
   "metadata": {},
   "source": [
    "Encountered an error fetching data for tj/node-progress Skipping.\n",
    "unsupported operand type(s) for +: 'NoneType' and 'str'\n",
    "Encountered an error fetching data for bucaran/fly Skipping.\n",
    "unsupported operand type(s) for +: 'NoneType' and 'str'\n",
    "Encountered an error fetching data for voodootikigod/node-serialport Skipping.\n",
    "unsupported operand type(s) for +: 'NoneType' and 'str'\n",
    "(200, u'mafintosh/peek-stream')\n",
    "Encountered an error fetching data for substack/stream-combiner2 Skipping.\n",
    "('_ssl.c:565: The handshake operation timed out',)\n",
    "Encountered an error fetching data for nodejs/readable-stream Skipping.\n",
    "timed out\n",
    "Encountered an error fetching data for almost/through2-concurrent Skipping.\n",
    "timed out\n",
    "Encountered an error fetching data for sockjs/sockjs-node Skipping.\n",
    "timed out\n",
    "Encountered an error fetching data for SocketCluster/socketcluster Skipping.\n",
    "timed out\n",
    "Encountered an error fetching data for primus/primus Skipping.\n",
    "timed out\n",
    "Encountered an error fetching data for simonswain/straw Skipping.\n",
    "timed out\n",
    "Encountered an error fetching data for fed135/Kalm Skipping.\n",
    "timed out\n",
    "Encountered an error fetching data for lovell/sharp Skipping.\n",
    "timed out\n",
    "Encountered an error fetching data for sindresorhus/image-type Skipping.\n",
    "timed out\n",
    "Encountered an error fetching data for aheckmann/gm Skipping.\n",
    "timed out\n",
    "Encountered an error fetching data for EyalAr/lwip Skipping.\n",
    "timed out\n",
    "Encountered an error fetching data for nodeca/pica Skipping.\n",
    "timed out\n",
    "Encountered an error fetching data for sindresorhus/is-progressive Skipping.\n",
    "timed out\n",
    "Encountered an error fetching data for nodeca/probe-image-size Skipping.\n",
    "timed out\n",
    "Encountered an error fetching data for epeli/underscore.string Skipping.\n",
    "timed out\n",
    "Encountered an error fetching data for ashtuchkin/iconv-lite Skipping.\n",
    "timed out\n",
    "Encountered an error fetching data for sindresorhus/repeating Skipping.\n",
    "timed out\n",
    "Encountered an error fetching data for sindresorhus/string-length Skipping.\n",
    "timed out\n",
    "Encountered an error fetching data for sindresorhus/camelcase Skipping.\n",
    "timed out\n",
    "Encountered an error fetching data for sindresorhus/escape-string-regexp Skipping.\n",
    "timed out\n",
    "Encountered an error fetching data for sindresorhus/execall Skipping.\n",
    "timed out\n",
    "Encountered an error fetching data for sindresorhus/splice-string Skipping.\n",
    "timed out\n",
    "Encountered an error fetching data for sindresorhus/indent-string Skipping.\n",
    "timed out\n",
    "Encountered an error fetching data for sindresorhus/strip-indent Skipping.\n",
    "timed out\n",
    "Encountered an error fetching data for sindresorhus/detect-indent Skipping.\n",
    "timed out\n",
    "Encountered an error fetching data for mathiasbynens/he Skipping.\n",
    "timed out\n",
    "Encountered an error fetching data for mashpie/i18n-node Skipping.\n",
    "timed out\n",
    "Encountered an error fetching data for nodeca/babelfish Skipping.\n",
    "timed out\n",
    "Encountered an error fetching data for sindresorhus/parse-columns Skipping.\n",
    "timed out\n",
    "Encountered an error fetching data for codekirei/hanging-indent Skipping.\n",
    "timed out\n",
    "Encountered an error fetching data for sindresorhus/matcher Skipping.\n",
    "timed out\n",
    "Encountered an error fetching data for sindresorhus/random-int Skipping.\n",
    "timed out\n",
    "Encountered an error fetching data for sindresorhus/random-float Skipping.\n",
    "timed out\n",
    "Encountered an error fetching data for sindresorhus/unique-random Skipping.\n",
    "timed out\n",
    "Encountered an error fetching data for sindresorhus/round-to Skipping.\n",
    "timed out\n",
    "Encountered an error fetching data for scijs/ndarray Skipping.\n",
    "timed out\n",
    "Encountered an error fetching data for josdejong/mathjs Skipping.\n",
    "timed out\n",
    "Encountered an error fetching data for sindresorhus/math-sum Skipping.\n",
    "timed out\n",
    "Encountered an error fetching data for sindresorhus/math-clamp Skipping.\n",
    "timed out\n",
    "Encountered an error fetching data for fibo/algebra Skipping.\n",
    "timed out\n",
    "Encountered an error fetching data for felixge/node-dateformat Skipping.\n",
    "timed out\n",
    "Encountered an error fetching data for samverschueren/tz-format Skipping.\n",
    "timed out\n",
    "Encountered an error fetching data for sindresorhus/normalize-url Skipping.\n",
    "timed out\n",
    "Encountered an error fetching data for sindresorhus/humanize-url Skipping.\n",
    "timed out\n",
    "Encountered an error fetching data for nodeca/url-unshort Skipping.\n",
    "timed out\n",
    "Encountered an error fetching data for pid/speakingurl Skipping.\n",
    "timed out\n",
    "Encountered an error fetching data for snd/url-pattern Skipping.\n",
    "timed out\n",
    "Encountered an error fetching data for wooorm/remark Skipping.\n",
    "('The read operation timed out',)\n",
    "Encountered an error fetching data for inikulin/parse5 Skipping.\n",
    "timed out\n",
    "Encountered an error fetching data for sindresorhus/strip-json-comments Skipping.\n",
    "timed out\n",
    "Encountered an error fetching data for sindresorhus/strip-css-comments Skipping.\n",
    "timed out\n",
    "Encountered an error fetching data for sindresorhus/parse-json Skipping.\n",
    "timed out\n",
    "Encountered an error fetching data for medialize/URI.js Skipping.\n",
    "timed out\n",
    "Encountered an error fetching data for postcss/postcss Skipping.\n",
    "timed out\n",
    "Encountered an error fetching data for dominictarr/JSONStream Skipping.\n",
    "timed out\n",
    "Encountered an error fetching data for mafintosh/csv-parser Skipping.\n",
    "timed out\n",
    "Encountered an error fetching data for sindresorhus/neat-csv Skipping.\n",
    "timed out\n",
    "Encountered an error fetching data for pegjs/pegjs Skipping.\n",
    "timed out\n",
    "Encountered an error fetching data for lapwinglabs/x-ray Skipping.\n",
    "timed out\n",
    "Encountered an error fetching data for Hardmath123/nearley Skipping.\n",
    "timed out\n",
    "Encountered an error fetching data for juliangruber/binary-extract Skipping.\n",
    "timed out\n",
    "Encountered an error fetching data for nemtsov/json-mask Skipping.\n",
    "timed out\n",
    "Encountered an error fetching data for stylecow/stylecow Skipping.\n",
    "timed out\n",
    "Encountered an error fetching data for nodeca/js-yaml Skipping.\n",
    "timed out\n",
    "Encountered an error fetching data for dominictarr/excel-stream Skipping.\n",
    "timed out\n",
    "Encountered an error fetching data for seegno/google-libphonenumber Skipping.\n",
    "timed out\n",
    "Encountered an error fetching data for sindresorhus/pretty-bytes Skipping.\n",
    "timed out\n",
    "Encountered an error fetching data for sindresorhus/pretty-ms Skipping.\n",
    "timed out\n",
    "Encountered an error fetching data for rauchg/ms.js Skipping.\n",
    "timed out\n",
    "Encountered an error fetching data for AriaMinaei/pretty-error Skipping.\n",
    "timed out\n",
    "Encountered an error fetching data for taijinlee/humanize Skipping.\n",
    "timed out\n",
    "Encountered an error fetching data for archiverjs/node-archiver Skipping.\n",
    "('_ssl.c:565: The handshake operation timed out',)\n",
    "Encountered an error fetching data for bower/decompress-zip Skipping.\n",
    "timed out\n",
    "Encountered an error fetching data for nodeca/pako Skipping.\n",
    "timed out\n",
    "Encountered an error fetching data for mafintosh/tar-stream Skipping.\n",
    "timed out\n",
    "Encountered an error fetching data for mafintosh/tar-fs Skipping.\n",
    "timed out\n",
    "Encountered an error fetching data for kevva/decompress Skipping.\n",
    "timed out\n",
    "Encountered an error fetching data for Level/levelup Skipping.\n",
    "('_ssl.c:565: The handshake operation timed out',)\n",
    "Encountered an error fetching data for mongodb/node-mongodb-native Skipping.\n",
    "timed out\n",
    "Encountered an error fetching data for felixge/node-mysql Skipping.\n",
    "unsupported operand type(s) for +: 'NoneType' and 'str'\n",
    "(300, u'aerospike/aerospike-client-nodejs')\n",
    "Encountered an error fetching data for balderdashy/waterline Skipping.\n",
    "('The read operation timed out',)\n",
    "Encountered an error fetching data for SierraSoftworks/Iridium Skipping.\n",
    "timed out\n",
    "Encountered an error fetching data for PhilWaldmann/openrecord Skipping.\n",
    "timed out\n",
    "Encountered an error fetching data for isaacs/node-tap Skipping.\n",
    "unsupported operand type(s) for +: 'NoneType' and 'str'\n",
    "Encountered an error fetching data for substack/tape Skipping.\n",
    "('_ssl.c:565: The handshake operation timed out',)\n",
    "Encountered an error fetching data for mantoni/mochify.js Skipping.\n",
    "timed out\n",
    "Encountered an error fetching data for gotwarlost/istanbul Skipping.\n",
    "('The read operation timed out',)\n",
    "Encountered an error fetching data for bcoe/nyc Skipping.\n",
    "timed out\n",
    "Encountered an error fetching data for sinonjs/sinon Skipping.\n",
    "('The read operation timed out',)\n",
    "Encountered an error fetching data for nodeca/navit Skipping.\n",
    "timed out\n",
    "Encountered an error fetching data for theintern/intern Skipping.\n",
    "timed out\n",
    "Encountered an error fetching data for andris9/Nodemailer Skipping.\n",
    "unsupported operand type(s) for +: 'NoneType' and 'str'\n",
    "Encountered an error fetching data for atom/electron Skipping.\n",
    "unsupported operand type(s) for +: 'NoneType' and 'str'\n",
    "(400, u'yeoman/stringify-object')\n",
    "Encountered an error fetching data for maxogden/art-of-node/#the-art-of-node Skipping.\n",
    "404 {u'documentation_url': u'https://developer.github.com/v3', u'message': u'Not Found'}\n",
    "Encountered an error fetching data for vsouza/awesome-ios/blob/master/.github/CONTRIBUTING.md Skipping.\n",
    "404 {u'documentation_url': u'https://developer.github.com/v3', u'message': u'Not Found'}\n",
    "(500, u'abbiio/iosdk')\n",
    "Encountered an error fetching data for yapstudios/YapDatabase Skipping.\n",
    "('The read operation timed out',)\n",
    "(600, u'ArtSabintsev/Zephyr')\n",
    "Encountered an error fetching data for pepibumur/SugarRecord Skipping.\n",
    "unsupported operand type(s) for +: 'NoneType' and 'str'\n",
    "(700, u'ytakzk/Fusuma')\n",
    "Encountered an error fetching data for square/Aardvark/ Skipping.\n",
    "404 {u'documentation_url': u'https://developer.github.com/v3', u'message': u'Not Found'}\n",
    "(800, u'evgenyneu/sound-fader-ios')\n",
    "Encountered an error fetching data for comyarzaheri/TuningFork Skipping.\n",
    "unsupported operand type(s) for +: 'NoneType' and 'str'\n",
    "Encountered an error fetching data for wangjwchn/JWAnimatedImage Skipping.\n",
    "unsupported operand type(s) for +: 'NoneType' and 'str'\n",
    "Encountered an error fetching data for vinbhai4u/CLImageViewPopup/ Skipping.\n",
    "404 {u'documentation_url': u'https://developer.github.com/v3', u'message': u'Not Found'}\n",
    "(900, u'eBay/NMessenger')\n",
    "Encountered an error fetching data for RestKit/RestKit Skipping.\n",
    "('_ssl.c:565: The handshake operation timed out',)\n",
    "Encountered an error fetching data for foursquare/FSNetworking Skipping.\n",
    "[Errno -2] Name or service not known\n",
    "Encountered an error fetching data for fastlane/fastlane/tree/master/pem Skipping.\n",
    "404 {u'documentation_url': u'https://developer.github.com/v3', u'message': u'Not Found'}\n",
    "**OUTPUT MUTED**"
   ]
  }
 ],
 "metadata": {
  "hide_input": false,
  "kernelspec": {
   "display_name": "pySpark (Spark 1.6.1)",
   "language": "python",
   "name": "pyspark"
  },
  "language_info": {
   "codemirror_mode": {
    "name": "ipython",
    "version": 2
   },
   "file_extension": ".py",
   "mimetype": "text/x-python",
   "name": "python",
   "nbconvert_exporter": "python",
   "pygments_lexer": "ipython2",
   "version": "2.7.8"
  },
  "notify_time": "10",
  "widgets": {
   "state": {
    "2335748F787F4C8E9D4DD19D4F6C66BE": {
     "views": []
    },
    "73C496158FA941F68067759FB56B6A4B": {
     "views": []
    }
   },
   "version": "2.0.0-dev"
  }
 },
 "nbformat": 4,
 "nbformat_minor": 0
}
