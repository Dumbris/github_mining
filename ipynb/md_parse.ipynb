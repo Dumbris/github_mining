{
 "cells": [
  {
   "cell_type": "code",
   "execution_count": 46,
   "metadata": {
    "collapsed": false
   },
   "outputs": [],
   "source": [
    "import markdown\n",
    "import urllib2\n",
    "import re\n",
    "import pandas as pd"
   ]
  },
  {
   "cell_type": "code",
   "execution_count": 8,
   "metadata": {
    "collapsed": false
   },
   "outputs": [],
   "source": [
    "currURL = 'https://raw.githubusercontent.com/sindresorhus/awesome/master/readme.md'\n",
    "# Assign the open file to a variable\n",
    "webFile = urllib2.urlopen(currURL)\n",
    "\n",
    "# Read the file contents to a variable\n",
    "file_contents = webFile.read()\n"
   ]
  },
  {
   "cell_type": "code",
   "execution_count": 49,
   "metadata": {
    "collapsed": false
   },
   "outputs": [],
   "source": [
    "from markdown.treeprocessors import Treeprocessor\n",
    "\n",
    "class CodeBlockTweaker(Treeprocessor):\n",
    "    def __init__(self, md):\n",
    "        self.cur_level = []\n",
    "        self.last_a = False\n",
    "        self.output = []\n",
    "        super(CodeBlockTweaker, self).__init__(md)\n",
    "    def run(self, root):\n",
    "        return self.setClass(root)\n",
    "    def setClass(self, element):\n",
    "        for child in element:\n",
    "            if child.tag == \"a\":\n",
    "                #print(self.cur_level, child.text, child.get(\"href\"))\n",
    "                #Out put only github repos\n",
    "                \n",
    "                href = child.get(\"href\")                    \n",
    "                is_repo = re.match('^https://github.com/\\w+', href)\n",
    "                if is_repo is not None:                    \n",
    "                    self.output.append((self.cur_level + [child.text], href))\n",
    "                self.last_a = child.text\n",
    "            # run recursively on children\n",
    "            if child.tag in [\"h2\", \"h3\"]:\n",
    "                if  self.cur_level:\n",
    "                    self.cur_level.pop()\n",
    "                self.cur_level.append(child.text)\n",
    "                self.last_a = False\n",
    "            elif child.tag == \"ul\" and self.last_a:\n",
    "                self.cur_level.append(self.last_a)\n",
    "                \n",
    "            child = self.setClass(child)\n",
    "            \n",
    "            if child.tag == \"ul\" and self.last_a and self.cur_level:                \n",
    "                self.cur_level.pop()\n",
    "        return element\n",
    "\n",
    "from markdown.extensions import Extension\n",
    "\n",
    "class CodeBlockExtension(Extension):\n",
    "    def extendMarkdown(self, md, md_globals):\n",
    "        self.tweaker = CodeBlockTweaker(md)\n",
    "        md.treeprocessors.add('codeblocktweaker', self.tweaker, '_end')\n",
    "\n",
    "ext = CodeBlockExtension()\n",
    "        \n",
    "html = markdown.markdown(text=unicode(file_contents, 'utf-8'), extensions=[ext])\n",
    "\n",
    "index_repos = pd.DataFrame(ext.tweaker.output, columns=[\"categories\", \"repo_url\"])\n",
    "    "
   ]
  },
  {
   "cell_type": "code",
   "execution_count": 12,
   "metadata": {
    "collapsed": false
   },
   "outputs": [],
   "source": [
    "#input_file = codecs.open(\"some_file.txt\", mode=\"r\", encoding=\"utf-8\")\n",
    "#text = input_file.read()\n",
    "#html = markdown.markdown(unicode(file_contents, 'utf-8'))"
   ]
  },
  {
   "cell_type": "code",
   "execution_count": 51,
   "metadata": {
    "collapsed": false
   },
   "outputs": [
    {
     "data": {
      "text/html": [
       "<div>\n",
       "<table border=\"1\" class=\"dataframe\">\n",
       "  <thead>\n",
       "    <tr style=\"text-align: right;\">\n",
       "      <th></th>\n",
       "      <th>categories</th>\n",
       "      <th>repo_url</th>\n",
       "    </tr>\n",
       "  </thead>\n",
       "  <tbody>\n",
       "    <tr>\n",
       "      <th>count</th>\n",
       "      <td>327</td>\n",
       "      <td>327</td>\n",
       "    </tr>\n",
       "    <tr>\n",
       "      <th>unique</th>\n",
       "      <td>327</td>\n",
       "      <td>327</td>\n",
       "    </tr>\n",
       "    <tr>\n",
       "      <th>top</th>\n",
       "      <td>[Books, R Books]</td>\n",
       "      <td>https://github.com/wbkd/awesome-d3</td>\n",
       "    </tr>\n",
       "    <tr>\n",
       "      <th>freq</th>\n",
       "      <td>1</td>\n",
       "      <td>1</td>\n",
       "    </tr>\n",
       "  </tbody>\n",
       "</table>\n",
       "</div>"
      ],
      "text/plain": [
       "              categories                            repo_url\n",
       "count                327                                 327\n",
       "unique               327                                 327\n",
       "top     [Books, R Books]  https://github.com/wbkd/awesome-d3\n",
       "freq                   1                                   1"
      ]
     },
     "execution_count": 51,
     "metadata": {},
     "output_type": "execute_result"
    }
   ],
   "source": [
    "index_repos.describe()"
   ]
  },
  {
   "cell_type": "code",
   "execution_count": null,
   "metadata": {
    "collapsed": true
   },
   "outputs": [],
   "source": []
  }
 ],
 "metadata": {
  "hide_input": false,
  "kernelspec": {
   "display_name": "pySpark (Spark 1.6.1)",
   "language": "python",
   "name": "pyspark"
  },
  "language_info": {
   "codemirror_mode": {
    "name": "ipython",
    "version": 2
   },
   "file_extension": ".py",
   "mimetype": "text/x-python",
   "name": "python",
   "nbconvert_exporter": "python",
   "pygments_lexer": "ipython2",
   "version": "2.7.8"
  },
  "widgets": {
   "state": {
    "D916FD66FC1148FC89B1D1198B748A3B": {
     "views": []
    }
   },
   "version": "2.0.0-dev"
  }
 },
 "nbformat": 4,
 "nbformat_minor": 0
}
