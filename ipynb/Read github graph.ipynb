{
 "cells": [
  {
   "cell_type": "code",
   "execution_count": 4,
   "metadata": {
    "collapsed": false
   },
   "outputs": [],
   "source": [
    "import re\n",
    "import sys\n",
    "import pandas as pd\n",
    "import numpy as np\n",
    "from github import Github\n",
    "from getpass import getpass\n",
    "from pandas.io.json import json_normalize\n",
    "from IPython.display import display, HTML\n",
    "import matplotlib.pyplot as plt\n",
    "import networkx as nx\n",
    "import pickle\n",
    "%matplotlib inline"
   ]
  },
  {
   "cell_type": "code",
   "execution_count": 5,
   "metadata": {
    "collapsed": false
   },
   "outputs": [],
   "source": [
    "repos = pd.read_csv(\"awe_repos_100_in_cats.csv\", encoding=\"utf-8\")"
   ]
  },
  {
   "cell_type": "code",
   "execution_count": 15,
   "metadata": {
    "collapsed": false
   },
   "outputs": [
    {
     "data": {
      "text/plain": [
       "(13877, 5)"
      ]
     },
     "execution_count": 15,
     "metadata": {},
     "output_type": "execute_result"
    }
   ],
   "source": [
    "repos.shape"
   ]
  },
  {
   "cell_type": "code",
   "execution_count": 6,
   "metadata": {
    "collapsed": false
   },
   "outputs": [
    {
     "name": "stdout",
     "output_type": "stream",
     "text": [
      "Enter github token:········\n"
     ]
    }
   ],
   "source": [
    "ACCESS_TOKEN = getpass(prompt=\"Enter github token:\")\n",
    "client = Github(ACCESS_TOKEN, per_page=100)"
   ]
  },
  {
   "cell_type": "code",
   "execution_count": 7,
   "metadata": {
    "collapsed": false
   },
   "outputs": [],
   "source": [
    "#g = nx.DiGraph() #or read it from disk \n",
    "g = nx.read_gpickle(\"github.BAK.gpickle\")\n",
    "cache = {\n",
    "    'repos':{},\n",
    "    'contributors':{},\n",
    "    'followers':{}\n",
    "}"
   ]
  },
  {
   "cell_type": "code",
   "execution_count": 13,
   "metadata": {
    "collapsed": false
   },
   "outputs": [
    {
     "data": {
      "text/plain": [
       "12291"
      ]
     },
     "execution_count": 13,
     "metadata": {},
     "output_type": "execute_result"
    }
   ],
   "source": [
    "mtsw_repo = [n for n in g if g.node[n]['type'] == 'repo']\n",
    "len(mtsw_repo)"
   ]
  },
  {
   "cell_type": "code",
   "execution_count": 9,
   "metadata": {
    "collapsed": false
   },
   "outputs": [
    {
     "name": "stdout",
     "output_type": "stream",
     "text": [
      "(12300, u'swirlycheetah/slack-brewbot')\n"
     ]
    },
    {
     "name": "stderr",
     "output_type": "stream",
     "text": [
      "Encountered an error fetching data for swirlycheetah/slack-brewbot Skipping.\n",
      "unsupported operand type(s) for +: 'NoneType' and 'str'\n",
      "Encountered an error fetching data for silentrob/superscript/ Skipping.\n",
      "unsupported operand type(s) for +: 'NoneType' and 'str'\n",
      "Encountered an error fetching data for picsoung/breezBot/ Skipping.\n",
      "404 {u'documentation_url': u'https://developer.github.com/v3', u'message': u'Not Found'}\n",
      "Encountered an error fetching data for lgaechter/Archibald Skipping.\n",
      "unsupported operand type(s) for +: 'NoneType' and 'str'\n",
      "Encountered an error fetching data for ConnorVG/PHP-Slack Skipping.\n",
      "404 {u'documentation_url': u'https://developer.github.com/v3', u'message': u'Not Found'}\n"
     ]
    },
    {
     "name": "stdout",
     "output_type": "stream",
     "text": [
      "(12400, u'j0k3r/tourdefrance-slack-bot')\n"
     ]
    },
    {
     "name": "stderr",
     "output_type": "stream",
     "text": [
      "Encountered an error fetching data for raelgc/scudcloud/ Skipping.\n",
      "404 {u'documentation_url': u'https://developer.github.com/v3', u'message': u'Not Found'}\n",
      "Encountered an error fetching data for StackStorm/st2contrib/tree/master/packs/slack Skipping.\n",
      "404 {u'documentation_url': u'https://developer.github.com/v3', u'message': u'Not Found'}\n",
      "Encountered an error fetching data for grexi/snippets/tree/master/tracslack Skipping.\n",
      "404 {u'documentation_url': u'https://developer.github.com/v3', u'message': u'Not Found'}\n",
      "Encountered an error fetching data for nextupdate/capistrano-slack Skipping.\n",
      "unsupported operand type(s) for +: 'NoneType' and 'str'\n",
      "Encountered an error fetching data for kenjij/lita-slack Skipping.\n",
      "unsupported operand type(s) for +: 'NoneType' and 'str'\n",
      "Encountered an error fetching data for willrax/slightly-weird Skipping.\n",
      "404 {u'documentation_url': u'https://developer.github.com/v3', u'message': u'Not Found'}\n"
     ]
    },
    {
     "name": "stdout",
     "output_type": "stream",
     "text": [
      "(12500, u'IcaliaLabs/tarumi')\n"
     ]
    },
    {
     "name": "stderr",
     "output_type": "stream",
     "text": [
      "Encountered an error fetching data for steinn/slack-hack/ Skipping.\n",
      "404 {u'documentation_url': u'https://developer.github.com/v3', u'message': u'Not Found'}\n"
     ]
    },
    {
     "name": "stdout",
     "output_type": "stream",
     "text": [
      "(12600, u'Symfonisti/awesome-symfony-education')\n"
     ]
    },
    {
     "name": "stderr",
     "output_type": "stream",
     "text": [
      "Encountered an error fetching data for fukuball/Awesome-Laravel-Education/blob/master/langs/en_US.md Skipping.\n",
      "404 {u'documentation_url': u'https://developer.github.com/v3', u'message': u'Not Found'}\n",
      "Encountered an error fetching data for ligurio/free-software-testing-books/blob/master/free-software-testing-books.md Skipping.\n",
      "404 {u'documentation_url': u'https://developer.github.com/v3', u'message': u'Not Found'}\n",
      "Encountered an error fetching data for vinkla/share-links Skipping.\n",
      "unsupported operand type(s) for +: 'NoneType' and 'str'\n"
     ]
    },
    {
     "name": "stdout",
     "output_type": "stream",
     "text": [
      "(12700, u'domenicosolazzo/awesome-okr')\n"
     ]
    },
    {
     "name": "stderr",
     "output_type": "stream",
     "text": [
      "Encountered an error fetching data for RichardLitt/endangered-languages/edit/master/README.md Skipping.\n",
      "404 {u'documentation_url': u'https://developer.github.com/v3', u'message': u'Not Found'}\n",
      "Encountered an error fetching data for RichardLitt/endangered-languages/issues Skipping.\n",
      "unsupported operand type(s) for +: 'NoneType' and 'str'\n",
      "Encountered an error fetching data for dhgarrette/low-resource-pos-tagging-2014/ Skipping.\n",
      "404 {u'documentation_url': u'https://developer.github.com/v3', u'message': u'Not Found'}\n"
     ]
    },
    {
     "name": "stdout",
     "output_type": "stream",
     "text": [
      "(12800, u'stanfordnlp/CoreNLP')\n"
     ]
    },
    {
     "name": "stderr",
     "output_type": "stream",
     "text": [
      "Encountered an error fetching data for proycon/folia/ Skipping.\n",
      "404 {u'documentation_url': u'https://developer.github.com/v3', u'message': u'Not Found'}\n"
     ]
    },
    {
     "name": "stdout",
     "output_type": "stream",
     "text": [
      "(12900, u'dhgarrette/nlp')\n"
     ]
    },
    {
     "name": "stderr",
     "output_type": "stream",
     "text": [
      "Encountered an error fetching data for padams/Open-Web-Analytics/ Skipping.\n",
      "404 {u'documentation_url': u'https://developer.github.com/v3', u'message': u'Not Found'}\n",
      "Encountered an error fetching data for CouchPotato/CouchPotatoServer/ Skipping.\n",
      "404 {u'documentation_url': u'https://developer.github.com/v3', u'message': u'Not Found'}\n",
      "Encountered an error fetching data for sebsauvage/rss-bridge Skipping.\n",
      "unsupported operand type(s) for +: 'NoneType' and 'str'\n",
      "Encountered an error fetching data for SickRage/SickRage/ Skipping.\n",
      "404 {u'documentation_url': u'https://developer.github.com/v3', u'message': u'Not Found'}\n",
      "Encountered an error fetching data for idno/idno Skipping.\n",
      "unsupported operand type(s) for +: 'NoneType' and 'str'\n",
      "Encountered an error fetching data for owncloud/calendar-rework Skipping.\n",
      "unsupported operand type(s) for +: 'NoneType' and 'str'\n"
     ]
    },
    {
     "name": "stdout",
     "output_type": "stream",
     "text": [
      "(13000, u'Kozea/Radicale')\n"
     ]
    },
    {
     "name": "stderr",
     "output_type": "stream",
     "text": [
      "Encountered an error fetching data for jasonmunro/hm3 Skipping.\n",
      "unsupported operand type(s) for +: 'NoneType' and 'str'\n",
      "Encountered an error fetching data for roundcube/roundcubemail/ Skipping.\n",
      "404 {u'documentation_url': u'https://developer.github.com/v3', u'message': u'Not Found'}\n",
      "Encountered an error fetching data for roadiz/roadiz/ Skipping.\n",
      "404 {u'documentation_url': u'https://developer.github.com/v3', u'message': u'Not Found'}\n",
      "Encountered an error fetching data for shoopio/shoop Skipping.\n",
      "unsupported operand type(s) for +: 'NoneType' and 'str'\n",
      "Encountered an error fetching data for tontof/kriss_feed/ Skipping.\n",
      "404 {u'documentation_url': u'https://developer.github.com/v3', u'message': u'Not Found'}\n",
      "Encountered an error fetching data for socketubs/leselys Skipping.\n",
      "unsupported operand type(s) for +: 'NoneType' and 'str'\n"
     ]
    },
    {
     "name": "stdout",
     "output_type": "stream",
     "text": [
      "(13100, u'mauricesvay/moonmoon')\n"
     ]
    },
    {
     "name": "stderr",
     "output_type": "stream",
     "text": [
      "Encountered an error fetching data for ipfspics/server Skipping.\n",
      "unsupported operand type(s) for +: 'NoneType' and 'str'\n",
      "Encountered an error fetching data for abrenaut/posio/ Skipping.\n",
      "404 {u'documentation_url': u'https://developer.github.com/v3', u'message': u'Not Found'}\n",
      "Encountered an error fetching data for liftoff/GateOne/ Skipping.\n",
      "404 {u'documentation_url': u'https://developer.github.com/v3', u'message': u'Not Found'}\n",
      "Encountered an error fetching data for inducer/relate/ Skipping.\n",
      "404 {u'documentation_url': u'https://developer.github.com/v3', u'message': u'Not Found'}\n",
      "Encountered an error fetching data for joemccann/dillinger/ Skipping.\n",
      "404 {u'documentation_url': u'https://developer.github.com/v3', u'message': u'Not Found'}\n",
      "Encountered an error fetching data for gobby/gobby/wiki/Dedicated%20Server Skipping.\n",
      "404 {u'documentation_url': u'https://developer.github.com/v3', u'message': u'Not Found'}\n",
      "Encountered an error fetching data for gobby/gobby/wiki Skipping.\n",
      "404 {u'documentation_url': u'https://developer.github.com/v3', u'message': u'Not Found'}\n"
     ]
    },
    {
     "name": "stdout",
     "output_type": "stream",
     "text": [
      "(13200, u'pklink/ppma')\n"
     ]
    },
    {
     "name": "stderr",
     "output_type": "stream",
     "text": [
      "Encountered an error fetching data for nilsteampassnet/TeamPass/ Skipping.\n",
      "404 {u'documentation_url': u'https://developer.github.com/v3', u'message': u'Not Found'}\n",
      "Encountered an error fetching data for nicksergeant/snipt/ Skipping.\n",
      "404 {u'documentation_url': u'https://developer.github.com/v3', u'message': u'Not Found'}\n",
      "Encountered an error fetching data for elrido/ZeroBin/wiki Skipping.\n",
      "404 {u'documentation_url': u'https://developer.github.com/v3', u'message': u'Not Found'}\n",
      "Encountered an error fetching data for rolandgeider/wger Skipping.\n",
      "unsupported operand type(s) for +: 'NoneType' and 'str'\n",
      "Encountered an error fetching data for joshdick/miniProxy/ Skipping.\n",
      "404 {u'documentation_url': u'https://developer.github.com/v3', u'message': u'Not Found'}\n",
      "Encountered an error fetching data for asciimoo/searx/wiki/Searx-instances Skipping.\n",
      "404 {u'documentation_url': u'https://developer.github.com/v3', u'message': u'Not Found'}\n",
      "Encountered an error fetching data for jonashaag/klaus/ Skipping.\n",
      "404 {u'documentation_url': u'https://developer.github.com/v3', u'message': u'Not Found'}\n",
      "Encountered an error fetching data for gskinner/regexr/ Skipping.\n",
      "404 {u'documentation_url': u'https://developer.github.com/v3', u'message': u'Not Found'}\n",
      "Encountered an error fetching data for rstudio/rstudio/ Skipping.\n",
      "404 {u'documentation_url': u'https://developer.github.com/v3', u'message': u'Not Found'}\n",
      "Encountered an error fetching data for jenkinsci/jenkins/ Skipping.\n",
      "404 {u'documentation_url': u'https://developer.github.com/v3', u'message': u'Not Found'}\n",
      "Encountered an error fetching data for YOURLS/YOURLS/ Skipping.\n",
      "404 {u'documentation_url': u'https://developer.github.com/v3', u'message': u'Not Found'}\n",
      "Encountered an error fetching data for YOURLS/YOURLS/wiki Skipping.\n",
      "404 {u'documentation_url': u'https://developer.github.com/v3', u'message': u'Not Found'}\n",
      "Encountered an error fetching data for sbrl/Pepperminty-Wiki/ Skipping.\n",
      "404 {u'documentation_url': u'https://developer.github.com/v3', u'message': u'Not Found'}\n",
      "Encountered an error fetching data for j8r/DPlatform Skipping.\n",
      "unsupported operand type(s) for +: 'NoneType' and 'str'\n"
     ]
    },
    {
     "name": "stdout",
     "output_type": "stream",
     "text": [
      "(13300, u'sovereign/sovereign')\n"
     ]
    },
    {
     "name": "stderr",
     "output_type": "stream",
     "text": [
      "Encountered an error fetching data for Kickball/awesome-selfhosted/archive/master.zip Skipping.\n",
      "404 {u'documentation_url': u'https://developer.github.com/v3', u'message': u'Not Found'}\n",
      "Encountered an error fetching data for Kickball/awesome-selfhosted/edit/master/README.md Skipping.\n",
      "404 {u'documentation_url': u'https://developer.github.com/v3', u'message': u'Not Found'}\n",
      "Encountered an error fetching data for Kickball/awesome-selfhosted/issues Skipping.\n",
      "unsupported operand type(s) for +: 'NoneType' and 'str'\n",
      "Encountered an error fetching data for Kickball/awesome-selfhosted/pulls Skipping.\n",
      "unsupported operand type(s) for +: 'NoneType' and 'str'\n",
      "Encountered an error fetching data for Kickball/awesome-selfhosted/pulls?utf8=%E2%9C%93&q=is%3Aclosed+ Skipping.\n",
      "unsupported operand type(s) for +: 'NoneType' and 'str'\n",
      "Encountered an error fetching data for gulpjs/plugins/blob/master/src/blackList.json Skipping.\n",
      "404 {u'documentation_url': u'https://developer.github.com/v3', u'message': u'Not Found'}\n",
      "Encountered an error fetching data for gulpjs/gulp/blob/master/docs/getting-started.md Skipping.\n",
      "404 {u'documentation_url': u'https://developer.github.com/v3', u'message': u'Not Found'}\n",
      "Encountered an error fetching data for gulpjs/gulp/blob/master/docs/API.md Skipping.\n",
      "404 {u'documentation_url': u'https://developer.github.com/v3', u'message': u'Not Found'}\n",
      "Encountered an error fetching data for gulpjs/gulp/tree/master/docs#articles Skipping.\n",
      "404 {u'documentation_url': u'https://developer.github.com/v3', u'message': u'Not Found'}\n",
      "Encountered an error fetching data for gulpjs/gulp/blob/master/docs/writing-a-plugin/README.md Skipping.\n",
      "404 {u'documentation_url': u'https://developer.github.com/v3', u'message': u'Not Found'}\n",
      "**OUTPUT MUTED**"
     ]
    }
   ],
   "source": [
    "%%time\n",
    "\n",
    "START_FROM = 13300+1 #index\n",
    "for i, repo_name in enumerate(repos.iloc[START_FROM:][\"repo\"].values):\n",
    "    if ((START_FROM+i) % 100) == 0: \n",
    "        print(START_FROM+i,repo_name)\n",
    "        nx.write_gpickle(g, \"github.BAK.gpickle\")\n",
    "    try:\n",
    "        repo = client.get_repo(repo_name)\n",
    "        g.add_node(repo.name + '(repo)', \n",
    "                   type='repo', \n",
    "                   lang=repo.language, \n",
    "                   owner=repo.owner.login,\n",
    "                   description=repo.description\n",
    "                  )\n",
    "        cache['repos'][repo_name] = repo\n",
    "        \n",
    "        for contributor in repo.get_contributors():\n",
    "            g.add_node(contributor.login + '(user)', type='user')\n",
    "            g.add_edge(contributor.login + '(user)', repo.name + '(repo)', type='contributors')\n",
    "            cache['contributors'][contributor.login] = contributor\n",
    "            for follower in contributor.get_followers():\n",
    "                if follower.login + '(user)' in g:\n",
    "                    g.add_edge(follower.login + '(user)', contributor.login + '(user)', \n",
    "                           type='follows')\n",
    "                    cache['followers'][follower.login] = follower\n",
    "        \n",
    "    except Exception, e: #ssl.SSLError\n",
    "        print >> sys.stderr, \"Encountered an error fetching data for\", \\\n",
    "                             repo_name, \"Skipping.\"\n",
    "        print >> sys.stderr, e\n",
    "\n",
    "    #if ((START_FROM+i) % 100) == 0: print \"Processed\", START_FROM+i+1, \" \", repo_name,\" nodes. Num nodes/edges in graph\", \\\n",
    "    #      g.number_of_nodes(), \"/\", g.number_of_edges()\n",
    "    if client.rate_limiting < 400: print(\"Rate limit remaining\", client.rate_limiting)\n",
    "    \n",
    "nx.write_gpickle(g, \"github.BAK.gpickle\")    \n",
    "pickle.dump( cache, open( \"cache.github.BAK.pickle\", \"wb\" ) )"
   ]
  },
  {
   "cell_type": "code",
   "execution_count": 14,
   "metadata": {
    "collapsed": false
   },
   "outputs": [
    {
     "data": {
      "text/plain": [
       "1482"
      ]
     },
     "execution_count": 14,
     "metadata": {},
     "output_type": "execute_result"
    }
   ],
   "source": [
    "len(cache[\"repos\"])"
   ]
  },
  {
   "cell_type": "code",
   "execution_count": null,
   "metadata": {
    "collapsed": true
   },
   "outputs": [],
   "source": [
    "pickle.dump( cache, open( \"cache.github.pickle\", \"wb\" ) )"
   ]
  },
  {
   "cell_type": "code",
   "execution_count": 12,
   "metadata": {
    "collapsed": false
   },
   "outputs": [
    {
     "data": {
      "text/plain": [
       "'Name: \\nType: DiGraph\\nNumber of nodes: 134337\\nNumber of edges: 1047226\\nAverage in degree:   7.7955\\nAverage out degree:   7.7955'"
      ]
     },
     "execution_count": 12,
     "metadata": {},
     "output_type": "execute_result"
    }
   ],
   "source": [
    "nx.info(g)"
   ]
  },
  {
   "cell_type": "code",
   "execution_count": 10,
   "metadata": {
    "collapsed": true
   },
   "outputs": [],
   "source": [
    "nx.write_gpickle(g, \"github.LONG5.gpickle\")"
   ]
  },
  {
   "cell_type": "code",
   "execution_count": 62,
   "metadata": {
    "collapsed": false
   },
   "outputs": [],
   "source": [
    "mtsw_users = [n for n in g if g.node[n]['type'] == 'user']\n",
    "h = g.subgraph(mtsw_users)\n",
    "\n",
    "#nx.write_gexf(h, \"github2.gexf\")\n",
    "#nx.write_gml(h, \"github2.gml\")\n",
    "nx.write_graphml(h, \"github1770.graphml\")"
   ]
  },
  {
   "cell_type": "code",
   "execution_count": 101,
   "metadata": {
    "collapsed": false
   },
   "outputs": [],
   "source": [
    "res = []\n",
    "for name, _repo in cache[\"repos\"].iteritems():\n",
    "    df = json_normalize(_repo.raw_data)\n",
    "    res.append(df)\n",
    "repos_df = pd.concat(res, ignore_index=True)"
   ]
  },
  {
   "cell_type": "code",
   "execution_count": 102,
   "metadata": {
    "collapsed": false
   },
   "outputs": [
    {
     "data": {
      "text/plain": [
       "(u'MADEAPPS/newton-dynamics', <github.Repository.Repository at 0x7f35a745b250>)"
      ]
     },
     "execution_count": 102,
     "metadata": {},
     "output_type": "execute_result"
    }
   ],
   "source": [
    "cache[\"repos\"].iteritems().next()"
   ]
  },
  {
   "cell_type": "code",
   "execution_count": 103,
   "metadata": {
    "collapsed": false
   },
   "outputs": [],
   "source": [
    "repos_df.to_csv(\"repos8087.csv\", encoding=\"utf-8\")"
   ]
  },
  {
   "cell_type": "markdown",
   "metadata": {},
   "source": [
    "Encountered an error fetching data for substack/stream-combiner2 Skipping.\n",
    "('_ssl.c:565: The handshake operation timed out',)\n",
    "Encountered an error fetching data for nodejs/readable-stream Skipping.\n",
    "timed out\n",
    "Encountered an error fetching data for almost/through2-concurrent Skipping.\n",
    "timed out\n",
    "Encountered an error fetching data for sockjs/sockjs-node Skipping.\n",
    "timed out\n",
    "Encountered an error fetching data for SocketCluster/socketcluster Skipping.\n",
    "timed out\n",
    "Encountered an error fetching data for primus/primus Skipping.\n",
    "timed out\n",
    "Encountered an error fetching data for simonswain/straw Skipping.\n",
    "timed out\n",
    "Encountered an error fetching data for fed135/Kalm Skipping.\n",
    "timed out\n",
    "Encountered an error fetching data for lovell/sharp Skipping.\n",
    "timed out\n",
    "Encountered an error fetching data for sindresorhus/image-type Skipping.\n",
    "timed out\n",
    "Encountered an error fetching data for aheckmann/gm Skipping.\n",
    "timed out\n",
    "Encountered an error fetching data for EyalAr/lwip Skipping.\n",
    "timed out\n",
    "Encountered an error fetching data for nodeca/pica Skipping.\n",
    "timed out\n",
    "Encountered an error fetching data for sindresorhus/is-progressive Skipping.\n",
    "timed out\n",
    "Encountered an error fetching data for nodeca/probe-image-size Skipping.\n",
    "timed out\n",
    "Encountered an error fetching data for epeli/underscore.string Skipping.\n",
    "timed out\n",
    "Encountered an error fetching data for ashtuchkin/iconv-lite Skipping.\n",
    "timed out\n",
    "Encountered an error fetching data for sindresorhus/repeating Skipping.\n",
    "timed out\n",
    "Encountered an error fetching data for sindresorhus/string-length Skipping.\n",
    "timed out\n",
    "Encountered an error fetching data for sindresorhus/camelcase Skipping.\n",
    "timed out\n",
    "Encountered an error fetching data for sindresorhus/escape-string-regexp Skipping.\n",
    "timed out\n",
    "Encountered an error fetching data for sindresorhus/execall Skipping.\n",
    "timed out\n",
    "Encountered an error fetching data for sindresorhus/splice-string Skipping.\n",
    "timed out\n",
    "Encountered an error fetching data for sindresorhus/indent-string Skipping.\n",
    "timed out\n",
    "Encountered an error fetching data for sindresorhus/strip-indent Skipping.\n",
    "timed out\n",
    "Encountered an error fetching data for sindresorhus/detect-indent Skipping.\n",
    "timed out\n",
    "Encountered an error fetching data for mathiasbynens/he Skipping.\n",
    "timed out\n",
    "Encountered an error fetching data for mashpie/i18n-node Skipping.\n",
    "timed out\n",
    "Encountered an error fetching data for nodeca/babelfish Skipping.\n",
    "timed out\n",
    "Encountered an error fetching data for sindresorhus/parse-columns Skipping.\n",
    "timed out\n",
    "Encountered an error fetching data for codekirei/hanging-indent Skipping.\n",
    "timed out\n",
    "Encountered an error fetching data for sindresorhus/matcher Skipping.\n",
    "timed out\n",
    "Encountered an error fetching data for sindresorhus/random-int Skipping.\n",
    "timed out\n",
    "Encountered an error fetching data for sindresorhus/random-float Skipping.\n",
    "timed out\n",
    "Encountered an error fetching data for sindresorhus/unique-random Skipping.\n",
    "timed out\n",
    "Encountered an error fetching data for sindresorhus/round-to Skipping.\n",
    "timed out\n",
    "Encountered an error fetching data for scijs/ndarray Skipping.\n",
    "timed out\n",
    "Encountered an error fetching data for josdejong/mathjs Skipping.\n",
    "timed out\n",
    "Encountered an error fetching data for sindresorhus/math-sum Skipping.\n",
    "timed out\n",
    "Encountered an error fetching data for sindresorhus/math-clamp Skipping.\n",
    "timed out\n",
    "Encountered an error fetching data for fibo/algebra Skipping.\n",
    "timed out\n",
    "Encountered an error fetching data for felixge/node-dateformat Skipping.\n",
    "timed out\n",
    "Encountered an error fetching data for samverschueren/tz-format Skipping.\n",
    "timed out\n",
    "Encountered an error fetching data for sindresorhus/normalize-url Skipping.\n",
    "timed out\n",
    "Encountered an error fetching data for sindresorhus/humanize-url Skipping.\n",
    "timed out\n",
    "Encountered an error fetching data for nodeca/url-unshort Skipping.\n",
    "timed out\n",
    "Encountered an error fetching data for pid/speakingurl Skipping.\n",
    "timed out\n",
    "Encountered an error fetching data for snd/url-pattern Skipping.\n",
    "timed out\n",
    "In [58]:\n",
    "Encountered an error fetching data for wooorm/remark Skipping.\n",
    "('The read operation timed out',)\n",
    "Encountered an error fetching data for inikulin/parse5 Skipping.\n",
    "timed out\n",
    "Encountered an error fetching data for sindresorhus/strip-json-comments Skipping.\n",
    "timed out\n",
    "Encountered an error fetching data for sindresorhus/strip-css-comments Skipping.\n",
    "timed out\n",
    "Encountered an error fetching data for sindresorhus/parse-json Skipping.\n",
    "timed out\n",
    "Encountered an error fetching data for medialize/URI.js Skipping.\n",
    "timed out\n",
    "Encountered an error fetching data for postcss/postcss Skipping.\n",
    "timed out\n",
    "Encountered an error fetching data for dominictarr/JSONStream Skipping.\n",
    "timed out\n",
    "Encountered an error fetching data for mafintosh/csv-parser Skipping.\n",
    "timed out\n",
    "Encountered an error fetching data for sindresorhus/neat-csv Skipping.\n",
    "timed out\n",
    "Encountered an error fetching data for pegjs/pegjs Skipping.\n",
    "timed out\n",
    "Encountered an error fetching data for lapwinglabs/x-ray Skipping.\n",
    "timed out\n",
    "Encountered an error fetching data for Hardmath123/nearley Skipping.\n",
    "timed out\n",
    "Encountered an error fetching data for juliangruber/binary-extract Skipping.\n",
    "timed out\n",
    "Encountered an error fetching data for nemtsov/json-mask Skipping.\n",
    "timed out\n",
    "Encountered an error fetching data for stylecow/stylecow Skipping.\n",
    "timed out\n",
    "Encountered an error fetching data for nodeca/js-yaml Skipping.\n",
    "timed out\n",
    "Encountered an error fetching data for dominictarr/excel-stream Skipping.\n",
    "timed out\n",
    "Encountered an error fetching data for seegno/google-libphonenumber Skipping.\n",
    "timed out\n",
    "Encountered an error fetching data for sindresorhus/pretty-bytes Skipping.\n",
    "timed out\n",
    "Encountered an error fetching data for sindresorhus/pretty-ms Skipping.\n",
    "timed out\n",
    "Encountered an error fetching data for rauchg/ms.js Skipping.\n",
    "timed out\n",
    "Encountered an error fetching data for AriaMinaei/pretty-error Skipping.\n",
    "timed out\n",
    "Encountered an error fetching data for taijinlee/humanize Skipping.\n",
    "timed out\n",
    "Encountered an error fetching data for archiverjs/node-archiver Skipping.\n",
    "('_ssl.c:565: The handshake operation timed out',)\n",
    "Encountered an error fetching data for bower/decompress-zip Skipping.\n",
    "timed out\n",
    "Encountered an error fetching data for nodeca/pako Skipping.\n",
    "timed out\n",
    "Encountered an error fetching data for mafintosh/tar-stream Skipping.\n",
    "timed out\n",
    "Encountered an error fetching data for mafintosh/tar-fs Skipping.\n",
    "timed out\n",
    "Encountered an error fetching data for kevva/decompress Skipping.\n",
    "timed out\n",
    "\n",
    "\n",
    "Encountered an error fetching data for nodeca/pako Skipping.\n",
    "timed out\n",
    "Encountered an error fetching data for mafintosh/tar-stream Skipping.\n",
    "timed out\n",
    "Encountered an error fetching data for mafintosh/tar-fs Skipping.\n",
    "timed out\n",
    "Encountered an error fetching data for kevva/decompress Skipping.\n",
    "timed out\n",
    "Encountered an error fetching data for Level/levelup Skipping.\n",
    "('_ssl.c:565: The handshake operation timed out',)\n",
    "Encountered an error fetching data for mongodb/node-mongodb-native Skipping.\n",
    "timed out\n",
    "Encountered an error fetching data for felixge/node-mysql Skipping.\n",
    "unsupported operand type(s) for +: 'NoneType' and 'str'\n",
    "(300, u'aerospike/aerospike-client-nodejs')\n",
    "Encountered an error fetching data for balderdashy/waterline Skipping.\n",
    "('The read operation timed out',)\n",
    "Encountered an error fetching data for SierraSoftworks/Iridium Skipping.\n",
    "timed out\n",
    "Encountered an error fetching data for PhilWaldmann/openrecord Skipping.\n",
    "timed out\n",
    "Encountered an error fetching data for isaacs/node-tap Skipping.\n",
    "unsupported operand type(s) for +: 'NoneType' and 'str'\n",
    "Encountered an error fetching data for substack/tape Skipping.\n",
    "('_ssl.c:565: The handshake operation timed out',)\n",
    "Encountered an error fetching data for mantoni/mochify.js Skipping.\n",
    "timed out\n",
    "Encountered an error fetching data for gotwarlost/istanbul Skipping.\n",
    "('The read operation timed out',)\n",
    "Encountered an error fetching data for bcoe/nyc Skipping.\n",
    "timed out\n",
    "Encountered an error fetching data for sinonjs/sinon Skipping.\n",
    "('The read operation timed out',)\n",
    "Encountered an error fetching data for nodeca/navit Skipping.\n",
    "timed out\n",
    "Encountered an error fetching data for theintern/intern Skipping.\n",
    "timed out"
   ]
  },
  {
   "cell_type": "markdown",
   "metadata": {},
   "source": [
    "Encountered an error fetching data for tj/node-progress Skipping.\n",
    "unsupported operand type(s) for +: 'NoneType' and 'str'\n",
    "Encountered an error fetching data for bucaran/fly Skipping.\n",
    "unsupported operand type(s) for +: 'NoneType' and 'str'\n",
    "Encountered an error fetching data for voodootikigod/node-serialport Skipping.\n",
    "unsupported operand type(s) for +: 'NoneType' and 'str'\n",
    "(200, u'mafintosh/peek-stream')\n",
    "Encountered an error fetching data for substack/stream-combiner2 Skipping.\n",
    "('_ssl.c:565: The handshake operation timed out',)\n",
    "Encountered an error fetching data for nodejs/readable-stream Skipping.\n",
    "timed out\n",
    "Encountered an error fetching data for almost/through2-concurrent Skipping.\n",
    "timed out\n",
    "Encountered an error fetching data for sockjs/sockjs-node Skipping.\n",
    "timed out\n",
    "Encountered an error fetching data for SocketCluster/socketcluster Skipping.\n",
    "timed out\n",
    "Encountered an error fetching data for primus/primus Skipping.\n",
    "timed out\n",
    "Encountered an error fetching data for simonswain/straw Skipping.\n",
    "timed out\n",
    "Encountered an error fetching data for fed135/Kalm Skipping.\n",
    "timed out\n",
    "Encountered an error fetching data for lovell/sharp Skipping.\n",
    "timed out\n",
    "Encountered an error fetching data for sindresorhus/image-type Skipping.\n",
    "timed out\n",
    "Encountered an error fetching data for aheckmann/gm Skipping.\n",
    "timed out\n",
    "Encountered an error fetching data for EyalAr/lwip Skipping.\n",
    "timed out\n",
    "Encountered an error fetching data for nodeca/pica Skipping.\n",
    "timed out\n",
    "Encountered an error fetching data for sindresorhus/is-progressive Skipping.\n",
    "timed out\n",
    "Encountered an error fetching data for nodeca/probe-image-size Skipping.\n",
    "timed out\n",
    "Encountered an error fetching data for epeli/underscore.string Skipping.\n",
    "timed out\n",
    "Encountered an error fetching data for ashtuchkin/iconv-lite Skipping.\n",
    "timed out\n",
    "Encountered an error fetching data for sindresorhus/repeating Skipping.\n",
    "timed out\n",
    "Encountered an error fetching data for sindresorhus/string-length Skipping.\n",
    "timed out\n",
    "Encountered an error fetching data for sindresorhus/camelcase Skipping.\n",
    "timed out\n",
    "Encountered an error fetching data for sindresorhus/escape-string-regexp Skipping.\n",
    "timed out\n",
    "Encountered an error fetching data for sindresorhus/execall Skipping.\n",
    "timed out\n",
    "Encountered an error fetching data for sindresorhus/splice-string Skipping.\n",
    "timed out\n",
    "Encountered an error fetching data for sindresorhus/indent-string Skipping.\n",
    "timed out\n",
    "Encountered an error fetching data for sindresorhus/strip-indent Skipping.\n",
    "timed out\n",
    "Encountered an error fetching data for sindresorhus/detect-indent Skipping.\n",
    "timed out\n",
    "Encountered an error fetching data for mathiasbynens/he Skipping.\n",
    "timed out\n",
    "Encountered an error fetching data for mashpie/i18n-node Skipping.\n",
    "timed out\n",
    "Encountered an error fetching data for nodeca/babelfish Skipping.\n",
    "timed out\n",
    "Encountered an error fetching data for sindresorhus/parse-columns Skipping.\n",
    "timed out\n",
    "Encountered an error fetching data for codekirei/hanging-indent Skipping.\n",
    "timed out\n",
    "Encountered an error fetching data for sindresorhus/matcher Skipping.\n",
    "timed out\n",
    "Encountered an error fetching data for sindresorhus/random-int Skipping.\n",
    "timed out\n",
    "Encountered an error fetching data for sindresorhus/random-float Skipping.\n",
    "timed out\n",
    "Encountered an error fetching data for sindresorhus/unique-random Skipping.\n",
    "timed out\n",
    "Encountered an error fetching data for sindresorhus/round-to Skipping.\n",
    "timed out\n",
    "Encountered an error fetching data for scijs/ndarray Skipping.\n",
    "timed out\n",
    "Encountered an error fetching data for josdejong/mathjs Skipping.\n",
    "timed out\n",
    "Encountered an error fetching data for sindresorhus/math-sum Skipping.\n",
    "timed out\n",
    "Encountered an error fetching data for sindresorhus/math-clamp Skipping.\n",
    "timed out\n",
    "Encountered an error fetching data for fibo/algebra Skipping.\n",
    "timed out\n",
    "Encountered an error fetching data for felixge/node-dateformat Skipping.\n",
    "timed out\n",
    "Encountered an error fetching data for samverschueren/tz-format Skipping.\n",
    "timed out\n",
    "Encountered an error fetching data for sindresorhus/normalize-url Skipping.\n",
    "timed out\n",
    "Encountered an error fetching data for sindresorhus/humanize-url Skipping.\n",
    "timed out\n",
    "Encountered an error fetching data for nodeca/url-unshort Skipping.\n",
    "timed out\n",
    "Encountered an error fetching data for pid/speakingurl Skipping.\n",
    "timed out\n",
    "Encountered an error fetching data for snd/url-pattern Skipping.\n",
    "timed out\n",
    "Encountered an error fetching data for wooorm/remark Skipping.\n",
    "('The read operation timed out',)\n",
    "Encountered an error fetching data for inikulin/parse5 Skipping.\n",
    "timed out\n",
    "Encountered an error fetching data for sindresorhus/strip-json-comments Skipping.\n",
    "timed out\n",
    "Encountered an error fetching data for sindresorhus/strip-css-comments Skipping.\n",
    "timed out\n",
    "Encountered an error fetching data for sindresorhus/parse-json Skipping.\n",
    "timed out\n",
    "Encountered an error fetching data for medialize/URI.js Skipping.\n",
    "timed out\n",
    "Encountered an error fetching data for postcss/postcss Skipping.\n",
    "timed out\n",
    "Encountered an error fetching data for dominictarr/JSONStream Skipping.\n",
    "timed out\n",
    "Encountered an error fetching data for mafintosh/csv-parser Skipping.\n",
    "timed out\n",
    "Encountered an error fetching data for sindresorhus/neat-csv Skipping.\n",
    "timed out\n",
    "Encountered an error fetching data for pegjs/pegjs Skipping.\n",
    "timed out\n",
    "Encountered an error fetching data for lapwinglabs/x-ray Skipping.\n",
    "timed out\n",
    "Encountered an error fetching data for Hardmath123/nearley Skipping.\n",
    "timed out\n",
    "Encountered an error fetching data for juliangruber/binary-extract Skipping.\n",
    "timed out\n",
    "Encountered an error fetching data for nemtsov/json-mask Skipping.\n",
    "timed out\n",
    "Encountered an error fetching data for stylecow/stylecow Skipping.\n",
    "timed out\n",
    "Encountered an error fetching data for nodeca/js-yaml Skipping.\n",
    "timed out\n",
    "Encountered an error fetching data for dominictarr/excel-stream Skipping.\n",
    "timed out\n",
    "Encountered an error fetching data for seegno/google-libphonenumber Skipping.\n",
    "timed out\n",
    "Encountered an error fetching data for sindresorhus/pretty-bytes Skipping.\n",
    "timed out\n",
    "Encountered an error fetching data for sindresorhus/pretty-ms Skipping.\n",
    "timed out\n",
    "Encountered an error fetching data for rauchg/ms.js Skipping.\n",
    "timed out\n",
    "Encountered an error fetching data for AriaMinaei/pretty-error Skipping.\n",
    "timed out\n",
    "Encountered an error fetching data for taijinlee/humanize Skipping.\n",
    "timed out\n",
    "Encountered an error fetching data for archiverjs/node-archiver Skipping.\n",
    "('_ssl.c:565: The handshake operation timed out',)\n",
    "Encountered an error fetching data for bower/decompress-zip Skipping.\n",
    "timed out\n",
    "Encountered an error fetching data for nodeca/pako Skipping.\n",
    "timed out\n",
    "Encountered an error fetching data for mafintosh/tar-stream Skipping.\n",
    "timed out\n",
    "Encountered an error fetching data for mafintosh/tar-fs Skipping.\n",
    "timed out\n",
    "Encountered an error fetching data for kevva/decompress Skipping.\n",
    "timed out\n",
    "Encountered an error fetching data for Level/levelup Skipping.\n",
    "('_ssl.c:565: The handshake operation timed out',)\n",
    "Encountered an error fetching data for mongodb/node-mongodb-native Skipping.\n",
    "timed out\n",
    "Encountered an error fetching data for felixge/node-mysql Skipping.\n",
    "unsupported operand type(s) for +: 'NoneType' and 'str'\n",
    "(300, u'aerospike/aerospike-client-nodejs')\n",
    "Encountered an error fetching data for balderdashy/waterline Skipping.\n",
    "('The read operation timed out',)\n",
    "Encountered an error fetching data for SierraSoftworks/Iridium Skipping.\n",
    "timed out\n",
    "Encountered an error fetching data for PhilWaldmann/openrecord Skipping.\n",
    "timed out\n",
    "Encountered an error fetching data for isaacs/node-tap Skipping.\n",
    "unsupported operand type(s) for +: 'NoneType' and 'str'\n",
    "Encountered an error fetching data for substack/tape Skipping.\n",
    "('_ssl.c:565: The handshake operation timed out',)\n",
    "Encountered an error fetching data for mantoni/mochify.js Skipping.\n",
    "timed out\n",
    "Encountered an error fetching data for gotwarlost/istanbul Skipping.\n",
    "('The read operation timed out',)\n",
    "Encountered an error fetching data for bcoe/nyc Skipping.\n",
    "timed out\n",
    "Encountered an error fetching data for sinonjs/sinon Skipping.\n",
    "('The read operation timed out',)\n",
    "Encountered an error fetching data for nodeca/navit Skipping.\n",
    "timed out\n",
    "Encountered an error fetching data for theintern/intern Skipping.\n",
    "timed out\n",
    "Encountered an error fetching data for andris9/Nodemailer Skipping.\n",
    "unsupported operand type(s) for +: 'NoneType' and 'str'\n",
    "Encountered an error fetching data for atom/electron Skipping.\n",
    "unsupported operand type(s) for +: 'NoneType' and 'str'\n",
    "(400, u'yeoman/stringify-object')\n",
    "Encountered an error fetching data for maxogden/art-of-node/#the-art-of-node Skipping.\n",
    "404 {u'documentation_url': u'https://developer.github.com/v3', u'message': u'Not Found'}\n",
    "Encountered an error fetching data for vsouza/awesome-ios/blob/master/.github/CONTRIBUTING.md Skipping.\n",
    "404 {u'documentation_url': u'https://developer.github.com/v3', u'message': u'Not Found'}\n",
    "(500, u'abbiio/iosdk')\n",
    "Encountered an error fetching data for yapstudios/YapDatabase Skipping.\n",
    "('The read operation timed out',)\n",
    "(600, u'ArtSabintsev/Zephyr')\n",
    "Encountered an error fetching data for pepibumur/SugarRecord Skipping.\n",
    "unsupported operand type(s) for +: 'NoneType' and 'str'\n",
    "(700, u'ytakzk/Fusuma')\n",
    "Encountered an error fetching data for square/Aardvark/ Skipping.\n",
    "404 {u'documentation_url': u'https://developer.github.com/v3', u'message': u'Not Found'}\n",
    "(800, u'evgenyneu/sound-fader-ios')\n",
    "Encountered an error fetching data for comyarzaheri/TuningFork Skipping.\n",
    "unsupported operand type(s) for +: 'NoneType' and 'str'\n",
    "Encountered an error fetching data for wangjwchn/JWAnimatedImage Skipping.\n",
    "unsupported operand type(s) for +: 'NoneType' and 'str'\n",
    "Encountered an error fetching data for vinbhai4u/CLImageViewPopup/ Skipping.\n",
    "404 {u'documentation_url': u'https://developer.github.com/v3', u'message': u'Not Found'}\n",
    "(900, u'eBay/NMessenger')\n",
    "Encountered an error fetching data for RestKit/RestKit Skipping.\n",
    "('_ssl.c:565: The handshake operation timed out',)\n",
    "Encountered an error fetching data for foursquare/FSNetworking Skipping.\n",
    "[Errno -2] Name or service not known\n",
    "Encountered an error fetching data for fastlane/fastlane/tree/master/pem Skipping.\n",
    "404 {u'documentation_url': u'https://developer.github.com/v3', u'message': u'Not Found'}\n",
    "**OUTPUT MUTED**"
   ]
  }
 ],
 "metadata": {
  "hide_input": false,
  "kernelspec": {
   "display_name": "pySpark (Spark 1.6.1)",
   "language": "python",
   "name": "pyspark"
  },
  "language_info": {
   "codemirror_mode": {
    "name": "ipython",
    "version": 2
   },
   "file_extension": ".py",
   "mimetype": "text/x-python",
   "name": "python",
   "nbconvert_exporter": "python",
   "pygments_lexer": "ipython2",
   "version": "2.7.8"
  },
  "notify_time": "10",
  "widgets": {
   "state": {
    "06D7CF78D74F47548F42186324024154": {
     "views": []
    },
    "C1FDFF0A017E431492D30CAC5E730935": {
     "views": []
    }
   },
   "version": "2.0.0-dev"
  }
 },
 "nbformat": 4,
 "nbformat_minor": 0
}
