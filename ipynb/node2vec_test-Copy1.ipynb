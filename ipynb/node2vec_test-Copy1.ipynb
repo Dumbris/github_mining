{
 "cells": [
  {
   "cell_type": "code",
   "execution_count": 15,
   "metadata": {
    "collapsed": false
   },
   "outputs": [],
   "source": [
    "import networkx as nx\n",
    "import numpy as np\n",
    "import matplotlib.pyplot as plt\n",
    "%matplotlib inline\n",
    "from gensim.models import Word2Vec"
   ]
  },
  {
   "cell_type": "code",
   "execution_count": 16,
   "metadata": {
    "collapsed": false
   },
   "outputs": [],
   "source": [
    "g = nx.read_gpickle(\"github.gpickle.2\")\n",
    "#g = nx.read_gexf('les-miserables.gexf')\n",
    "#nx.write_graphml(g, \"github.graphml\")"
   ]
  },
  {
   "cell_type": "code",
   "execution_count": null,
   "metadata": {
    "collapsed": true
   },
   "outputs": [],
   "source": []
  },
  {
   "cell_type": "code",
   "execution_count": 17,
   "metadata": {
    "collapsed": false
   },
   "outputs": [
    {
     "name": "stdout",
     "output_type": "stream",
     "text": [
      "Name: \n",
      "Type: DiGraph\n",
      "Number of nodes: 96833\n",
      "Number of edges: 233089\n",
      "Average in degree:   2.4071\n",
      "Average out degree:   2.4071\n"
     ]
    }
   ],
   "source": [
    "print nx.info(g)"
   ]
  },
  {
   "cell_type": "code",
   "execution_count": 18,
   "metadata": {
    "collapsed": true
   },
   "outputs": [],
   "source": [
    "def add_w(g):\n",
    "    for edge in g.edges():\n",
    "        g[edge[0]][edge[1]]['weight'] = 1\n",
    "    return g\n"
   ]
  },
  {
   "cell_type": "code",
   "execution_count": 19,
   "metadata": {
    "collapsed": true
   },
   "outputs": [],
   "source": [
    "D = True\n",
    "P = 1\n",
    "#Return hyperparameter. Default is 1\n",
    "Q = 1\n",
    "#Inout hyperparameter. Default is 1.\n",
    "NW = 10\n",
    "#Number of walks per source. Default is 40\n",
    "WL = 40\n",
    "#Length of walk per source. Default is 10.\n",
    "WORKERS = 8\n",
    "#'Number of parallel workers. Default is 8.\n",
    "WIN_SIZE = 4\n",
    "#Context size for optimization. Default is 10.\n",
    "ITER = 20\n",
    "#Number of epochs in SGD\n",
    "DIM = 64\n",
    "#Number of dimensions. Default is 128.\n",
    "\n"
   ]
  },
  {
   "cell_type": "code",
   "execution_count": 20,
   "metadata": {
    "collapsed": false
   },
   "outputs": [
    {
     "name": "stdout",
     "output_type": "stream",
     "text": [
      "Walk iteration:\n",
      "1 / 10\n",
      "2 / 10\n",
      "3 / 10\n",
      "4 / 10\n",
      "5 / 10\n",
      "6 / 10\n",
      "7 / 10\n",
      "8 / 10\n",
      "9 / 10\n",
      "10 / 10\n"
     ]
    }
   ],
   "source": [
    "nx_G = add_w(g)\n",
    "\n",
    "G = Graph(nx_G, D, P, Q)\n",
    "G.preprocess_transition_probs()\n",
    "walks = G.simulate_walks(NW, WL)\n",
    "#learn_embeddings(walks)"
   ]
  },
  {
   "cell_type": "code",
   "execution_count": 21,
   "metadata": {
    "collapsed": false
   },
   "outputs": [],
   "source": [
    "def learn_embeddings(walks):\n",
    "    '''\n",
    "    Learn embeddings by optimizing the Skipgram objective using SGD.\n",
    "    '''\n",
    "    walks = [map(str, walk) for walk in walks]\n",
    "    model = Word2Vec(walks, size=DIM, window=WIN_SIZE, min_count=0, workers=WORKERS, iter=ITER)\n",
    "    return model\n",
    "\n",
    "model = learn_embeddings(walks)\n",
    "model.save_word2vec_format(\"output2.emb\")\n"
   ]
  },
  {
   "cell_type": "code",
   "execution_count": 22,
   "metadata": {
    "collapsed": false
   },
   "outputs": [
    {
     "name": "stdout",
     "output_type": "stream",
     "text": [
      "\n",
      "Cluster 0\n",
      "['push_it(repo)', 'omwcat(repo)', 'sbt-groll(repo)']\n",
      "\n",
      "Cluster 1\n",
      "['Mining-the-Social-Web(repo)']\n",
      "\n",
      "Cluster 2\n",
      "['pparo(user)']\n",
      "\n",
      "Cluster 3\n",
      "['kohana-rest-framework(repo)', 'ocaml-eff-example(repo)', 'sublime-twitter-bootstrap-snippets(repo)', 'new_maker_press(repo)', 'clojure-ttt(repo)']\n",
      "\n",
      "Cluster 4\n",
      "['TV-kko(repo)', 'qsandra(repo)', 'IPython-Dashboard(repo)', 'genevalidatorapp(repo)']\n",
      "\n",
      "Cluster 5\n",
      "['Bohr(repo)', 'ditto(repo)', 'Freematics(repo)', 'tg2(repo)', 'dotnet(repo)', 'no-wang-wang(repo)', 'TKRubberIndicator(repo)', 'slsw_erlang(repo)']\n",
      "\n",
      "Cluster 6\n",
      "['wp-demo-plugin-i18n(repo)', 'binaryen(repo)', 'angularJS-TwitterSearch(repo)']\n",
      "\n",
      "Cluster 7\n",
      "['node-vue-server-webpack(repo)', 'CleverRecyclerView(repo)', 'hashID(repo)', 'nv-websocket-client(repo)', 'chrome-nico-hatebu(repo)', 'YoutubeAudioClipper(repo)', 'isbnnetinclj2(repo)', 'PokeMobBot(repo)']\n",
      "\n",
      "Cluster 8\n",
      "['todomvc-aurelia(repo)', 'locache(repo)']\n",
      "\n",
      "Cluster 9\n",
      "['flipcounter(repo)', 'pytest-blockage(repo)', 'mendicantuniversity.org(repo)', 'chrx(repo)', 'Vagrant-Setup(repo)', 'equizmo-android(repo)', 'TeamToy_TToy_Plugin(repo)', 'fifteen_puzzle(repo)', 'angular-requirejs-seed(repo)', 'nerves-examples(repo)']\n",
      "\n",
      "Cluster 10\n",
      "['nelliemckesson(user)']\n",
      "\n",
      "Cluster 11\n",
      "['motion-cocoapods(repo)', 'pootle(repo)', 'chiasm(repo)', 'scala-offheap(repo)', 'MaskedVByte(repo)']\n",
      "\n",
      "Cluster 12\n",
      "['android-sliding-menu-demo(repo)', 'y-cloninator(repo)', 'neo4j_fdw(repo)', 'git-utils(repo)']\n",
      "\n",
      "Cluster 13\n",
      "['datamicroarray(repo)', 'Cello(repo)']\n",
      "\n",
      "Cluster 14\n",
      "['keyword-popularity(repo)', 'nnetcpp(repo)', 'lbfgs(repo)', 'steal(repo)', 'renren(repo)', 'bokeh-demos(repo)', 'sPDF(repo)']\n",
      "\n",
      "Cluster 15\n",
      "['ciphers(repo)', 'grab_chrome_videos(repo)', 'cloudcmd(repo)', 'gengweibo(repo)', 'CVE-2015-6620-POC(repo)', 'devtools-terminal(repo)', 'bgfx(repo)', 'codequery(repo)', 'unidoc(repo)', 'nodejs.org-archive(repo)', 'streamsx.messaging(repo)', 'python-spdy(repo)', 'django-password-policies(repo)', 'scalable-css-reading-list(repo)', 'node-sphericalmercator(repo)', 'fedex(repo)', 'raspchat(repo)', 'googler(repo)', 'vhostino(repo)', 'Haskell-Art(repo)', 'goSecure(repo)', 'blueprint-plugin---silksprite(repo)', 'vscode-scala(repo)', 'di52(repo)', 'Everything-is-bugged(repo)', 'game-of-music(repo)', 'periscope(repo)']\n",
      "\n",
      "Cluster 16\n",
      "['US2FormValidator(repo)', 'design-system-ios(repo)', 'FPGA-Litecoin-Miner(repo)', 'angular_devise(repo)', 'polydraw(repo)']\n",
      "\n",
      "Cluster 17\n",
      "['stacktrace.js(repo)', 'norikra(repo)', 'PhotoAppLink(repo)', 'gui11aume(user)']\n",
      "\n",
      "Cluster 18\n",
      "['miniprofiler-pg(repo)', 'jsonguichan(repo)', 'bash-oo-framework(repo)', 'llds(repo)', 't50(repo)']\n",
      "\n",
      "Cluster 19\n",
      "['NfSpy(repo)', 'php-yaf-doc(repo)', 'sqlcipher-android-tests(repo)', 'rendr-example-blog(repo)', 'twitter-sort(repo)', 'sliding-panels-template(repo)', 'gitalert(repo)', 'pointstopaths(repo)', 'node-pushserver(repo)', 'Meridian59(repo)']\n",
      "CPU times: user 5h 36min 45s, sys: 8.7 s, total: 5h 36min 53s\n",
      "Wall time: 5h 37min 11s\n"
     ]
    }
   ],
   "source": [
    "%%time\n",
    "\n",
    "from sklearn.cluster import KMeans\n",
    "\n",
    "word_vectors = model.syn0\n",
    "num_clusters = word_vectors.shape[0] / 5\n",
    "\n",
    "kmeans_clustering = KMeans( n_clusters = num_clusters )\n",
    "idx = kmeans_clustering.fit_predict( word_vectors )\n",
    "\n",
    "# Create a Word / Index dictionary, mapping each vocabulary word to\n",
    "# a cluster number                                                                                            \n",
    "word_centroid_map = dict(zip( model.index2word, idx ))\n",
    "\n",
    "# For the first 10 clusters\n",
    "for cluster in xrange(0,20):\n",
    "    #\n",
    "    # Print the cluster number  \n",
    "    print \"\\nCluster %d\" % cluster\n",
    "    #\n",
    "    # Find all of the words for that cluster number, and print them out\n",
    "    words = []\n",
    "    for i in xrange(0,len(word_centroid_map.values())):\n",
    "        if( word_centroid_map.values()[i] == cluster ):\n",
    "            words.append(word_centroid_map.keys()[i])\n",
    "    print words"
   ]
  },
  {
   "cell_type": "code",
   "execution_count": 26,
   "metadata": {
    "collapsed": false
   },
   "outputs": [
    {
     "name": "stdout",
     "output_type": "stream",
     "text": [
      "\n",
      "Cluster 20\n",
      "['react-ratchet(repo)', 'TiFaceRecognizer(repo)', 'tmux-mem-cpu-load(repo)', 'ManageSieveJ(repo)', 'FastRoute(repo)', 'iv(repo)', 'osm-postgis-scripts(repo)', 'picasso2-okhttp3-downloader(repo)', 'ec2price(repo)']\n",
      "\n",
      "Cluster 21\n",
      "['Planet-Wars-Canvas-Visualizer(repo)', 'resume.pdf(repo)', 'earth-latest-data(repo)', 'Pokemon-Go-Rocket-API(repo)', 'spry(repo)']\n",
      "\n",
      "Cluster 22\n",
      "['JohnTheRipper(repo)', 'Java-Download-Manager(repo)', 'nutz(repo)', 'zen-and-art(repo)']\n",
      "\n",
      "Cluster 23\n",
      "['ptwobrussell(user)']\n",
      "\n",
      "Cluster 24\n",
      "['luci-access-control(repo)', 'javascript-libraries-syntax.vim(repo)', 'divingintoipynb(repo)', 'wheelhouse(repo)', 'lamson(repo)', 'formd(repo)', 'elixir_kata(repo)', 'MBrace.Core(repo)', 'gender(repo)']\n",
      "\n",
      "Cluster 25\n",
      "['getting_started_guide(repo)', 'python-phabricator(repo)', 'material-intro(repo)', 'django-adminplus(repo)', 'awesome-react(repo)', 'html-email-snippets(repo)', 'eventlet_visualiser(repo)', 'ssp(repo)']\n",
      "\n",
      "Cluster 26\n",
      "['nearley(repo)', 'AndroidDnssdDemo(repo)', 'pyconindia2012-autolysis(repo)', 'ossec_dashboard(repo)', 'DeepID_FaceClassify(repo)', 'Icons(repo)', 'NoNonsenseForum(repo)', 'EasyDice(repo)', 'PockulusCHIP(repo)']\n",
      "\n",
      "Cluster 27\n",
      "['maltelligence(repo)', 'il-repack(repo)', 'osm4routing(repo)', 'social-graph-analysis(repo)', 'vnc-over-gif(repo)', 'JabbR(repo)', 'delayed_job_web(repo)', 'linkedin-j(repo)', 'hive-thrift-py(repo)', 'graphlite(repo)']\n",
      "\n",
      "Cluster 28\n",
      "['ambari-webpage-embedder-view(repo)', 'HackerMusic(repo)']\n",
      "\n",
      "Cluster 29\n",
      "['futon4mongo(repo)', 'slacker-asyncio(repo)', 'react-prism(repo)', 'ChatSecure-Push-Android(repo)', 'knock(repo)', 'anycluster(repo)', 'TinyTX(repo)', 'riemann-config(repo)', 'phoneformat.js(repo)', 'Win32-OpenSSH(repo)']\n",
      "\n",
      "Cluster 30\n",
      "['project-explorer(repo)', 'formbuilder(repo)', 'uchiwa(repo)', 'android-MediaEffects(repo)', 'tinyissue(repo)', 'CrowdtiltOpen(repo)', 'Cheat_Sheets(repo)', 'liftr(repo)', 'ExpertSystem(repo)', 'wilderness-core(repo)', 'homebrew-postgresql(repo)', 'f5vpn-login(repo)', 'skulpt(repo)', 'peinfector(repo)', 'tcomb(repo)']\n",
      "\n",
      "Cluster 31\n",
      "['xvwa(repo)', 'toxiclibsjs(repo)', 'Locomotive-fundamentals(repo)']\n",
      "\n",
      "Cluster 32\n",
      "['pyttsx(repo)', 'emacs-android(repo)', 'avro-tools(repo)', 'hotdish(repo)', 'superagent(repo)', 'deliver(repo)', 'base64util(repo)', 'Moya(repo)', 'neo4j-jupyter(repo)', 'minim-reader(repo)']\n",
      "\n",
      "Cluster 33\n",
      "['authoring-guide(repo)', 'handshopper(repo)', 'go-opencv(repo)', 'angular2-education(repo)', 'SocketChat(repo)', 'leaf(repo)', 'android_external_jfsutils(repo)', 'dmusic-plugin-baidumusic(repo)', 'rails-3_0-tutorial(repo)', 'selfish(repo)', 'Imhotep(repo)', 'OpenWPM(repo)', 'rainbow(repo)', 'tao(repo)', 'hs-guard-selection(repo)', 'django-formtools(repo)', 'parallec(repo)', 'bulk-delete(repo)']\n",
      "\n",
      "Cluster 34\n",
      "['ahill1(user)']\n",
      "\n",
      "Cluster 35\n",
      "['libseccomp(repo)', 'peru(repo)', 'agentx(repo)', 'newspub-cookbook(repo)', 'cloudflare-bypass(repo)', 'syncthing-android(repo)', 'localStorage(repo)', 'clojure-error-message-catalog(repo)', 'walmart-api(repo)', 'Justified-Gallery(repo)', 'senti-storm(repo)', 'hostthedocs(repo)']\n",
      "\n",
      "Cluster 36\n",
      "['GeoMap(repo)', 'churnalism_us(repo)', 'mines(repo)', 'OSMZmiany(repo)']\n",
      "\n",
      "Cluster 37\n",
      "['jerryyeezus(user)']\n",
      "\n",
      "Cluster 38\n",
      "['YTKNetwork(repo)', 'sea-301d1(repo)', 'ObjcCollectionsKeyValueFiltering(repo)', 'django-auto-api(repo)', 'ringpop-node(repo)', 'angular-gantt(repo)', 'vim-wordpress-snippets(repo)', 'electron-release-server(repo)', 'worklog(repo)', 'znc(repo)', 'columnize(repo)', 'antiface(user)', 'jQ.Mobi(repo)', 'mysql-connector-python(repo)', 'project-ideas(repo)']\n",
      "\n",
      "Cluster 39\n",
      "['avatar-samples(repo)', 'simplenote-android(repo)', 'dart-rails(repo)', 'node-migrate(repo)', 'nginx_exporter(repo)', 'HYBImageCliped(repo)']\n",
      "\n",
      "Cluster 40\n",
      "['browser-sync(repo)', 'the-riddle-smith(repo)', 'background-process(repo)', 'mapbox-sdk-py(repo)', 'AsyncSocket(repo)', 'QLVideo(repo)', 'git-test(repo)', 'truecrypt-verified-mirror(repo)', 'gen-erl-app(repo)', 'uidevice-extension(repo)', 'scrollViewAmbigous(repo)']\n",
      "\n",
      "Cluster 41\n",
      "['wp_runkeeper_button(repo)', 'pg_pathman(repo)', 'ansible-tutorial(repo)', 'emacs-config(repo)', 'DoctrineORMModule(repo)', 'PiFmRds(repo)', 'ipv6_python(repo)', 'external-tools(repo)', 'wirefy(repo)', 'tirexs(repo)', 'bower-installer(repo)', 'MediaLibDemos(repo)']\n",
      "\n",
      "Cluster 42\n",
      "['ReLinker(repo)', 'sieve(repo)']\n",
      "\n",
      "Cluster 43\n",
      "['DeveloperMediaDemo(repo)', 'qark(repo)', 'movie_review(repo)', 'react-dart(repo)', 'CLOUDS(repo)', 'hypergrad(repo)', 'testenv(repo)', '4-little-words-DNS-server(repo)', 'embed(repo)']\n",
      "\n",
      "Cluster 44\n",
      "['browser-run(repo)', 'explib2(repo)', 'ParticleLab(repo)', 'twitter-stream-channels(repo)', 'genhost(repo)', 'GroupMessenger(repo)', 'qemu-smartos-build(repo)', 'temp-holding-page(repo)']\n",
      "\n",
      "Cluster 45\n",
      "['jquery.pageless(repo)', 'bitstamper(repo)', 'koi-reference-parser(repo)', 'Randoop.NET(repo)', 'pythonos(repo)', 'generator-fountain-webapp(repo)', 'teslalogger(repo)', 'OwlSim(repo)']\n",
      "\n",
      "Cluster 46\n",
      "['redmine-github-plugin(repo)', 'Cook(repo)', 'Chinese_Laws(repo)', 'chrome-boilerplate(repo)']\n",
      "\n",
      "Cluster 47\n",
      "['advcpmv(repo)', 'acrylamid(repo)', 'sierra(repo)', 'nodegit(repo)', 'cupboard-api(repo)']\n",
      "\n",
      "Cluster 48\n",
      "['icarus(repo)', 'jquerymobiledropdown(repo)', 'CPVideoKit(repo)', 'example-ember-rails-dashboard(repo)', 'phpfreechat(repo)', 'beez(repo)', 'Material-Controls-For-iOS(repo)', 'tomatoes(repo)']\n",
      "\n",
      "Cluster 49\n",
      "['djobs(repo)', 'cli-guide.js(repo)', 'blockstack-core(repo)', 'sameas4j(repo)', 'libphenom(repo)', 'data(repo)', 'HYBLoopScrollView(repo)', 'gzhihu(repo)', 'AI-909(repo)', 'whereslunch(repo)', 'ocaml-hyphenate(repo)', 'blogger(repo)', 'generic-hex-dump(repo)', 'python-bitcoinrpc(repo)', 'repogen(repo)', 'document_mapper(repo)', 'Simple-RBES(repo)', 'fullscreen-p5(repo)', 'leaflet.d3(repo)']\n",
      "\n",
      "Cluster 50\n",
      "['pyersinia(repo)', 'btce-bot(repo)']\n",
      "\n",
      "Cluster 51\n",
      "['Kaggle_Greek_Media_Monitoring_Multilabel_Classification(repo)', 'f5-vpn-client(repo)', 'ffmpeg-php(repo)', 'bayes.js(repo)']\n",
      "\n",
      "Cluster 52\n",
      "['Aelius(repo)', 'lwcore(repo)', 'cinderpane(repo)']\n",
      "\n",
      "Cluster 53\n",
      "['fonts.css(repo)', 'awesome-crossfit(repo)', 'fpdetective(repo)', 'termtter(repo)', 'vptree.js(repo)', 'rocker-compose(repo)', 'akka-http-stream-example(repo)']\n",
      "\n",
      "Cluster 54\n",
      "['smtp-connection(repo)', 'reel(repo)', 'ino(repo)', 'capistrano-mongo-sync(repo)', 'sidekiq-failures(repo)', 'wheelphone-applications(repo)']\n",
      "\n",
      "Cluster 55\n",
      "['quantum_mech(repo)', 'alfred-caniuse-workflow(repo)', 'airprint(repo)', 'mooeditable(repo)', 'rabbit(repo)']\n",
      "\n",
      "Cluster 56\n",
      "['invoicerb(repo)', 'BBCNews-React-Native(repo)', 'generator-chrome-extension(repo)', 'StreamMachine(repo)', 'elsa(repo)', 'redux-persist(repo)', 'china_ip_list(repo)', 'global-report(repo)']\n",
      "\n",
      "Cluster 57\n",
      "['geometrycommands(repo)', 'example-combi-apis-comet(repo)', 'openmrs-module-pacsintegration(repo)']\n",
      "\n",
      "Cluster 58\n",
      "['neocomplcache.vim(repo)', 'bmdtools(repo)', 'confidence(repo)', 'php-getter-setter.vim(repo)', 'ACM(repo)', 'aionotify(repo)', 'burnside(repo)', 'sqs-consumer(repo)']\n",
      "\n",
      "Cluster 59\n",
      "['Big_Data_Resources(repo)']\n",
      "\n",
      "Cluster 60\n",
      "['Net-Twitter(repo)', 'Infiniscroll.js(repo)', 'workenv(repo)', 'up-hook(repo)', 'docker_wordcount(repo)', 'pgpecosystem(repo)']\n",
      "\n",
      "Cluster 61\n",
      "['getdns(repo)', 'fontdump(repo)', 'json2caseclass(repo)', 'Skosmos(repo)', 'hologram-dash-arduino-integration(repo)']\n",
      "\n",
      "Cluster 62\n",
      "['sharq-server(repo)', 'js-sequence-diagrams(repo)', 'jquery-validation(repo)', 'FloatWindow(repo)', 'highcharts-ng(repo)', 'ring-jetty9-adapter(repo)', 'SublimeOnSaveBuild(repo)', 'webidl2.js(repo)', 'spring-elasticsearch(repo)', 'geometry(repo)', 'android_device_htc_dream_sapphire(repo)', 'inf(repo)', 'i18n-node-2(repo)', 'e3-moqui(repo)', 'ZIFA(repo)', 'google-hosts(repo)', 'Bitmarkets(repo)']\n",
      "\n",
      "Cluster 63\n",
      "['libexif(repo)', 'BlockSnippets(repo)', 'streaming-papers(repo)', 'otree(repo)', 'synthesize(repo)', 'ex_machina(repo)', 'SAMCubicSpline(repo)']\n",
      "\n",
      "Cluster 64\n",
      "['wave-experiment(repo)', 'jquery-taggit(repo)', 'wikipedia-to-mongodb(repo)', 'frop(repo)', 'S4(repo)', 'Startup-Game(repo)', 'QuoraClone(repo)', 'password-protected(repo)', 'meteor-leaflet(repo)', 'jitpack.io(repo)', 'SimpleColumnAddition(repo)', 'pg8000(repo)', 'diplomarbeit(repo)']\n",
      "\n",
      "Cluster 65\n",
      "['PushNotificationsJava(repo)', 'emacs(repo)', 'jsdc-2014(repo)', 'OpenSeadragon.Gigapan(repo)', 'ENV_BANG(repo)', 'flexible-route-loader(repo)', 'autotest-notifyosd(repo)', 'solid-spec(repo)', 'mumble-scripts(repo)', 'es6-node-starter(repo)']\n",
      "\n",
      "Cluster 66\n",
      "['progit2(repo)', 'Angularjs-weui(repo)']\n",
      "\n",
      "Cluster 67\n",
      "['rules-migrator(repo)', 'iolib(repo)', 'sf1r-lite(repo)', 'selenium-webdriver-slug(repo)', 'rwt(repo)', 'chromeless(repo)', 'jekyll(repo)', 'lucid(repo)', 'honcho(repo)', 'simple-timeline(repo)']\n",
      "\n",
      "Cluster 68\n",
      "['IDxRFIDReader(repo)', 'ActiveRecord(repo)']\n",
      "\n",
      "Cluster 69\n",
      "['wp-facebook(repo)', 'AHaH(repo)', 'DrillJDBC(repo)', 'sqlite-jetpack(repo)', 'TARDIS(repo)', 'bikebook(repo)', 'detector(repo)']\n",
      "\n",
      "Cluster 70\n",
      "['automi(repo)', 'CLLocationManager-Mock-Object(repo)', 'pleeease(repo)', 'loudmouth(repo)']\n",
      "\n",
      "Cluster 71\n",
      "['query-monitor(repo)', 'awesome-db(repo)', 'eng-england(repo)', 'atomic(repo)', 'libesedb(repo)', 'elisp-intro-ja(repo)', 'pyzen(repo)', 'mini-map(repo)', 'Style-Guide-Boilerplate(repo)']\n",
      "\n",
      "Cluster 72\n",
      "['samurai-native(repo)', 'zerovm(repo)', 'hoverboard(repo)', 'satstat(repo)', 'ExpediaPersonalizedSortCompetition(repo)', 'grape-entity-matchers(repo)', 'rack-attack(repo)']\n",
      "\n",
      "Cluster 73\n",
      "['yuidoc(repo)', 'wp-cli-lint(repo)', 'qvD3CalendarView(repo)', 'happybase(repo)', 'ruby-c-example(repo)', 'bad-data-guide(repo)', 'Banana-Py(repo)', 'react-native-meteor-starter(repo)', 'cplusequality(repo)', 'massrel-js(repo)', 'DDPageControl(repo)', 'shopping-list(repo)', 'django-classy-tags(repo)', 'OpenBCI-V2hardware-DEPRECATED(repo)']\n",
      "\n",
      "Cluster 74\n",
      "['kontraktor(repo)', 'JSON.minify(repo)', 'drupal-8-rest-angularjs(repo)', 'heroku-buildpack-gifsicle(repo)', 'gawry(user)', 'qtpy(repo)', 'JJG-Ansible-Windows(repo)', 'erldis(repo)']\n",
      "\n",
      "Cluster 75\n",
      "['ngincat(repo)', 'chandler(repo)', 'jQueryBugLink(repo)', 'sinatra-authentication(repo)']\n",
      "\n",
      "Cluster 76\n",
      "['babel-plugin-react-remove-prop-types(repo)', 'benchfella(repo)', 'matlab2048(repo)', 'apispec(repo)', 'yaxim(repo)', 'django-google-prediction-example(repo)', 'compass-sinatra(repo)', 'caelyf(repo)']\n",
      "\n",
      "Cluster 77\n",
      "**OUTPUT MUTED**"
     ]
    }
   ],
   "source": [
    "for cluster in xrange(20,100):\n",
    "    #\n",
    "    # Print the cluster number  \n",
    "    print \"\\nCluster %d\" % cluster\n",
    "    #\n",
    "    # Find all of the words for that cluster number, and print them out\n",
    "    words = []\n",
    "    for i in xrange(0,len(word_centroid_map.values())):\n",
    "        if( word_centroid_map.values()[i] == cluster ):\n",
    "            words.append(word_centroid_map.keys()[i])\n",
    "    print words"
   ]
  },
  {
   "cell_type": "code",
   "execution_count": 23,
   "metadata": {
    "collapsed": false
   },
   "outputs": [],
   "source": [
    "#model.most_similar(positive=['d3(repo)', 'jquery(repo)'], negative=['EthereumContracts(repo)'])"
   ]
  },
  {
   "cell_type": "code",
   "execution_count": 24,
   "metadata": {
    "collapsed": false
   },
   "outputs": [],
   "source": [
    "#print model.similarity('d3(repo)', 'jquery(repo)')\n",
    "#print model.similarity('Big_Data_Resources(repo)', 'jquery(repo)')"
   ]
  },
  {
   "cell_type": "code",
   "execution_count": 27,
   "metadata": {
    "collapsed": false
   },
   "outputs": [
    {
     "ename": "KeyError",
     "evalue": "\"word 'Dumbris(user)' not in vocabulary\"",
     "output_type": "error",
     "traceback": [
      "\u001b[0;31m---------------------------------------------------------------------------\u001b[0m",
      "\u001b[0;31mKeyError\u001b[0m                                  Traceback (most recent call last)",
      "\u001b[0;32m<ipython-input-27-2cd74e176be2>\u001b[0m in \u001b[0;36m<module>\u001b[0;34m()\u001b[0m\n\u001b[0;32m----> 1\u001b[0;31m \u001b[0mmodel\u001b[0m\u001b[0;34m.\u001b[0m\u001b[0mmost_similar\u001b[0m\u001b[0;34m(\u001b[0m\u001b[0;34m'Dumbris(user)'\u001b[0m\u001b[0;34m)\u001b[0m\u001b[0;34m\u001b[0m\u001b[0m\n\u001b[0m",
      "\u001b[0;32m/usr/local/lib/python2.7/dist-packages/gensim/models/word2vec.pyc\u001b[0m in \u001b[0;36mmost_similar\u001b[0;34m(self, positive, negative, topn, restrict_vocab)\u001b[0m\n\u001b[1;32m   1231\u001b[0m                 \u001b[0mall_words\u001b[0m\u001b[0;34m.\u001b[0m\u001b[0madd\u001b[0m\u001b[0;34m(\u001b[0m\u001b[0mself\u001b[0m\u001b[0;34m.\u001b[0m\u001b[0mvocab\u001b[0m\u001b[0;34m[\u001b[0m\u001b[0mword\u001b[0m\u001b[0;34m]\u001b[0m\u001b[0;34m.\u001b[0m\u001b[0mindex\u001b[0m\u001b[0;34m)\u001b[0m\u001b[0;34m\u001b[0m\u001b[0m\n\u001b[1;32m   1232\u001b[0m             \u001b[0;32melse\u001b[0m\u001b[0;34m:\u001b[0m\u001b[0;34m\u001b[0m\u001b[0m\n\u001b[0;32m-> 1233\u001b[0;31m                 \u001b[0;32mraise\u001b[0m \u001b[0mKeyError\u001b[0m\u001b[0;34m(\u001b[0m\u001b[0;34m\"word '%s' not in vocabulary\"\u001b[0m \u001b[0;34m%\u001b[0m \u001b[0mword\u001b[0m\u001b[0;34m)\u001b[0m\u001b[0;34m\u001b[0m\u001b[0m\n\u001b[0m\u001b[1;32m   1234\u001b[0m         \u001b[0;32mif\u001b[0m \u001b[0;32mnot\u001b[0m \u001b[0mmean\u001b[0m\u001b[0;34m:\u001b[0m\u001b[0;34m\u001b[0m\u001b[0m\n\u001b[1;32m   1235\u001b[0m             \u001b[0;32mraise\u001b[0m \u001b[0mValueError\u001b[0m\u001b[0;34m(\u001b[0m\u001b[0;34m\"cannot compute similarity with no input\"\u001b[0m\u001b[0;34m)\u001b[0m\u001b[0;34m\u001b[0m\u001b[0m\n",
      "\u001b[0;31mKeyError\u001b[0m: \"word 'Dumbris(user)' not in vocabulary\""
     ]
    }
   ],
   "source": [
    "model.most_similar('Dumbris(user)')"
   ]
  },
  {
   "cell_type": "code",
   "execution_count": null,
   "metadata": {
    "collapsed": false
   },
   "outputs": [],
   "source": [
    "sp = nx.all_shortest_paths(g,source='Dumbris(user)',target='titan(repo)')\n",
    "print([p for p in sp])\n",
    "#nx.astar_path(g,source='davni(user)',target='ekgren(user)')"
   ]
  },
  {
   "cell_type": "code",
   "execution_count": null,
   "metadata": {
    "collapsed": false
   },
   "outputs": [],
   "source": [
    "model.similar_by_vector(model['Dumbris(user)'] + model['jfenton(user)'])"
   ]
  },
  {
   "cell_type": "code",
   "execution_count": null,
   "metadata": {
    "collapsed": true
   },
   "outputs": [],
   "source": [
    "import random\n",
    "\n",
    "\n",
    "class Graph():\n",
    "\tdef __init__(self, nx_G, is_directed, p, q):\n",
    "\t\tself.G = nx_G\n",
    "\t\tself.is_directed = is_directed\n",
    "\t\tself.p = p\n",
    "\t\tself.q = q\n",
    "\n",
    "\tdef node2vec_walk(self, walk_length, start_node):\n",
    "\t\t'''\n",
    "\t\tSimulate a random walk starting from start node.\n",
    "\t\t'''\n",
    "\t\tG = self.G\n",
    "\t\talias_nodes = self.alias_nodes\n",
    "\t\talias_edges = self.alias_edges\n",
    "\n",
    "\t\twalk = [start_node]\n",
    "\n",
    "\t\twhile len(walk) < walk_length:\n",
    "\t\t\tcur = walk[-1]\n",
    "\t\t\tcur_nbrs = sorted(G.neighbors(cur))\n",
    "\t\t\tif len(cur_nbrs) > 0:\n",
    "\t\t\t\tif len(walk) == 1:\n",
    "\t\t\t\t\twalk.append(cur_nbrs[alias_draw(alias_nodes[cur][0], alias_nodes[cur][1])])\n",
    "\t\t\t\telse:\n",
    "\t\t\t\t\tprev = walk[-2]\n",
    "\t\t\t\t\tnext = cur_nbrs[alias_draw(alias_edges[(prev, cur)][0], \n",
    "\t\t\t\t\t\talias_edges[(prev, cur)][1])]\n",
    "\t\t\t\t\twalk.append(next)\n",
    "\t\t\telse:\n",
    "\t\t\t\tbreak\n",
    "\n",
    "\t\treturn walk\n",
    "\n",
    "\tdef simulate_walks(self, num_walks, walk_length):\n",
    "\t\t'''\n",
    "\t\tRepeatedly simulate random walks from each node.\n",
    "\t\t'''\n",
    "\t\tG = self.G\n",
    "\t\twalks = []\n",
    "\t\tnodes = list(G.nodes())\n",
    "\t\tprint 'Walk iteration:'\n",
    "\t\tfor walk_iter in range(num_walks):\n",
    "\t\t\tprint str(walk_iter+1), '/', str(num_walks)\n",
    "\t\t\trandom.shuffle(nodes)\n",
    "\t\t\tfor node in nodes:\n",
    "\t\t\t\twalks.append(self.node2vec_walk(walk_length=walk_length, start_node=node))\n",
    "\n",
    "\t\treturn walks\n",
    "\n",
    "\tdef get_alias_edge(self, src, dst):\n",
    "\t\t'''\n",
    "\t\tGet the alias edge setup lists for a given edge.\n",
    "\t\t'''\n",
    "\t\tG = self.G\n",
    "\t\tp = self.p\n",
    "\t\tq = self.q\n",
    "\n",
    "\t\tunnormalized_probs = []\n",
    "\t\tfor dst_nbr in sorted(G.neighbors(dst)):\n",
    "\t\t\tif dst_nbr == src:\n",
    "\t\t\t\tunnormalized_probs.append(G[dst][dst_nbr]['weight']/p)\n",
    "\t\t\telif G.has_edge(dst_nbr, src):\n",
    "\t\t\t\tunnormalized_probs.append(G[dst][dst_nbr]['weight'])\n",
    "\t\t\telse:\n",
    "\t\t\t\tunnormalized_probs.append(G[dst][dst_nbr]['weight']/q)\n",
    "\t\tnorm_const = sum(unnormalized_probs)\n",
    "\t\tnormalized_probs =  [float(u_prob)/norm_const for u_prob in unnormalized_probs]\n",
    "\n",
    "\t\treturn alias_setup(normalized_probs)\n",
    "\n",
    "\tdef preprocess_transition_probs(self):\n",
    "\t\t'''\n",
    "\t\tPreprocessing of transition probabilities for guiding the random walks.\n",
    "\t\t'''\n",
    "\t\tG = self.G\n",
    "\t\tis_directed = self.is_directed\n",
    "\n",
    "\t\talias_nodes = {}\n",
    "\t\tfor node in G.nodes():\n",
    "\t\t\tunnormalized_probs = [G[node][nbr]['weight'] for nbr in sorted(G.neighbors(node))]\n",
    "\t\t\tnorm_const = sum(unnormalized_probs)\n",
    "\t\t\tnormalized_probs =  [float(u_prob)/norm_const for u_prob in unnormalized_probs]\n",
    "\t\t\talias_nodes[node] = alias_setup(normalized_probs)\n",
    "\n",
    "\t\talias_edges = {}\n",
    "\t\ttriads = {}\n",
    "\n",
    "\t\tif is_directed:\n",
    "\t\t\tfor edge in G.edges():\n",
    "\t\t\t\talias_edges[edge] = self.get_alias_edge(edge[0], edge[1])\n",
    "\t\telse:\n",
    "\t\t\tfor edge in G.edges():\n",
    "\t\t\t\talias_edges[edge] = self.get_alias_edge(edge[0], edge[1])\n",
    "\t\t\t\talias_edges[(edge[1], edge[0])] = self.get_alias_edge(edge[1], edge[0])\n",
    "\n",
    "\t\tself.alias_nodes = alias_nodes\n",
    "\t\tself.alias_edges = alias_edges\n",
    "\n",
    "\t\treturn\n",
    "\n",
    "\n",
    "def alias_setup(probs):\n",
    "\t'''\n",
    "\tCompute utility lists for non-uniform sampling from discrete distributions.\n",
    "\tRefer to https://hips.seas.harvard.edu/blog/2013/03/03/the-alias-method-efficient-sampling-with-many-discrete-outcomes/\n",
    "\tfor details\n",
    "\t'''\n",
    "\tK = len(probs)\n",
    "\tq = np.zeros(K)\n",
    "\tJ = np.zeros(K, dtype=np.int)\n",
    "\n",
    "\tsmaller = []\n",
    "\tlarger = []\n",
    "\tfor kk, prob in enumerate(probs):\n",
    "\t    q[kk] = K*prob\n",
    "\t    if q[kk] < 1.0:\n",
    "\t        smaller.append(kk)\n",
    "\t    else:\n",
    "\t        larger.append(kk)\n",
    "\n",
    "\twhile len(smaller) > 0 and len(larger) > 0:\n",
    "\t    small = smaller.pop()\n",
    "\t    large = larger.pop()\n",
    "\n",
    "\t    J[small] = large\n",
    "\t    q[large] = q[large] + q[small] - 1.0\n",
    "\t    if q[large] < 1.0:\n",
    "\t        smaller.append(large)\n",
    "\t    else:\n",
    "\t        larger.append(large)\n",
    "\n",
    "\treturn J, q\n",
    "\n",
    "def alias_draw(J, q):\n",
    "\t'''\n",
    "\tDraw sample from a non-uniform discrete distribution using alias sampling.\n",
    "\t'''\n",
    "\tK = len(J)\n",
    "\n",
    "\tkk = int(np.floor(np.random.rand()*K))\n",
    "\tif np.random.rand() < q[kk]:\n",
    "\t    return kk\n",
    "\telse:\n",
    "\t    return J[kk]\n"
   ]
  },
  {
   "cell_type": "code",
   "execution_count": null,
   "metadata": {
    "collapsed": true
   },
   "outputs": [],
   "source": []
  }
 ],
 "metadata": {
  "hide_input": false,
  "kernelspec": {
   "display_name": "pySpark (Spark 1.6.1)",
   "language": "python",
   "name": "pyspark"
  },
  "language_info": {
   "codemirror_mode": {
    "name": "ipython",
    "version": 2
   },
   "file_extension": ".py",
   "mimetype": "text/x-python",
   "name": "python",
   "nbconvert_exporter": "python",
   "pygments_lexer": "ipython2",
   "version": "2.7.8"
  },
  "notify_time": "10",
  "widgets": {
   "state": {
    "5E997816D9634F929036B8EC60AB1DE2": {
     "views": []
    }
   },
   "version": "2.0.0-dev"
  }
 },
 "nbformat": 4,
 "nbformat_minor": 0
}
