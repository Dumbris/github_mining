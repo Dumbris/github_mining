{
 "cells": [
  {
   "cell_type": "code",
   "execution_count": 1,
   "metadata": {
    "collapsed": true
   },
   "outputs": [],
   "source": [
    "import networkx as nx"
   ]
  },
  {
   "cell_type": "code",
   "execution_count": 2,
   "metadata": {
    "collapsed": false
   },
   "outputs": [
    {
     "name": "stdout",
     "output_type": "stream",
     "text": [
      "Number of stargazers 3\n"
     ]
    }
   ],
   "source": [
    "from github import Github\n",
    "\n",
    "# XXX: Specify your own access token here\n",
    "\n",
    "ACCESS_TOKEN = '31ecdab1c572a467b88b19d670e09aed9c431fa4'\n",
    "\n",
    "# Specify a username and repository of interest for that user.\n",
    "\n",
    "USER = 'Dumbris'\n",
    "REPO = 'rexpro-erl'\n",
    "\n",
    "client = Github(ACCESS_TOKEN, per_page=100)\n",
    "user = client.get_user(USER)\n",
    "repo = user.get_repo(REPO)\n",
    "\n",
    "# Get a list of people who have bookmarked the repo.\n",
    "# Since you'll get a lazy iterator back, you have to traverse\n",
    "# it if you want to get the total number of stargazers.\n",
    "\n",
    "stargazers = [ s for s in repo.get_stargazers() ]\n",
    "print \"Number of stargazers\", len(stargazers)\n",
    "\n",
    "g = nx.DiGraph()\n",
    "g.add_node(repo.name + '(repo)', type='repo', lang=repo.language, owner=user.login)\n",
    "\n",
    "for sg in stargazers:\n",
    "    g.add_node(sg.login + '(user)', type='user')\n",
    "    g.add_edge(sg.login + '(user)', repo.name + '(repo)', type='gazes')\n",
    "    \n",
    "    "
   ]
  },
  {
   "cell_type": "code",
   "execution_count": 12,
   "metadata": {
    "collapsed": false
   },
   "outputs": [
    {
     "data": {
      "text/plain": [
       "<github.PaginatedList.PaginatedList instance at 0x7fa5bf480b48>"
      ]
     },
     "execution_count": 12,
     "metadata": {},
     "output_type": "execute_result"
    }
   ],
   "source": [
    "REPOS = [\n",
    "    \"vhf/free-programming-books\",\n",
    "    \"jquery/jquery\"\n",
    "]\n",
    "\n",
    "user.get_events\n",
    "contribs = repo.get_contributors()\n",
    "contribs\n"
   ]
  },
  {
   "cell_type": "code",
   "execution_count": 28,
   "metadata": {
    "collapsed": false
   },
   "outputs": [],
   "source": [
    "reps = user.get_repos()"
   ]
  },
  {
   "cell_type": "code",
   "execution_count": 19,
   "metadata": {
    "collapsed": true
   },
   "outputs": [],
   "source": [
    "evs = user.get_events()"
   ]
  },
  {
   "cell_type": "code",
   "execution_count": 25,
   "metadata": {
    "collapsed": false
   },
   "outputs": [
    {
     "name": "stdout",
     "output_type": "stream",
     "text": [
      "Help on method get_page in module github.PaginatedList:\n",
      "\n",
      "get_page(self, page) method of github.PaginatedList.PaginatedList instance\n",
      "\n"
     ]
    }
   ],
   "source": [
    "help(evs.get_page)"
   ]
  },
  {
   "cell_type": "code",
   "execution_count": 34,
   "metadata": {
    "collapsed": false
   },
   "outputs": [
    {
     "data": {
      "text/plain": [
       "{u'ansible-tsung': [u'rodo'],\n",
       " u'blueprints-scala': [u'vikraman', u'anvie', u'aembleton'],\n",
       " u'blueprints-scala-example': [u'Dumbris']}"
      ]
     },
     "execution_count": 34,
     "metadata": {},
     "output_type": "execute_result"
    }
   ],
   "source": [
    "contribs = {}\n",
    "for _repo in reps[:3]:\n",
    "    users = []\n",
    "    for _user in _repo.get_contributors():\n",
    "        users.append(_user.login)\n",
    "    contribs[_repo.name] = users\n",
    "    \n",
    "contribs    "
   ]
  },
  {
   "cell_type": "code",
   "execution_count": 3,
   "metadata": {
    "collapsed": false
   },
   "outputs": [
    {
     "name": "stdout",
     "output_type": "stream",
     "text": [
      "Dumbris\n",
      "Processed 1 stargazers' starred repos\n",
      "Num nodes/edges in graph 102 / 101\n",
      "Rate limit (4996, 5000)\n",
      "jfenton\n",
      "Processed 2 stargazers' starred repos\n",
      "Num nodes/edges in graph 197 / 198\n",
      "Rate limit (4995, 5000)\n",
      "Papipo\n",
      "Processed 3 stargazers' starred repos\n",
      "Num nodes/edges in graph 296 / 297\n",
      "Rate limit (4994, 5000)\n"
     ]
    }
   ],
   "source": [
    "# Let's add each stargazer's additional starred repos and add edges \n",
    "# to find additional interests.\n",
    "\n",
    "MAX_REPOS = 100\n",
    "\n",
    "for i, sg in enumerate(stargazers):\n",
    "    print sg.login\n",
    "    try:\n",
    "        for starred in sg.get_starred()[:MAX_REPOS]: # Slice to avoid supernodes\n",
    "            g.add_node(starred.name + '(repo)', type='repo', lang=starred.language, \\\n",
    "                       owner=starred.owner.login)\n",
    "            g.add_edge(sg.login + '(user)', starred.name + '(repo)', type='gazes')\n",
    "    except Exception, e: #ssl.SSLError:\n",
    "        print \"Encountered an error fetching starred repos for\", sg.login, \"Skipping.\"\n",
    "\n",
    "    print \"Processed\", i+1, \"stargazers' starred repos\"\n",
    "    print \"Num nodes/edges in graph\", g.number_of_nodes(), \"/\", g.number_of_edges()\n",
    "    print \"Rate limit\", client.rate_limiting"
   ]
  },
  {
   "cell_type": "code",
   "execution_count": 4,
   "metadata": {
    "collapsed": true
   },
   "outputs": [],
   "source": [
    "# Save your work by serializing out another snapshot of the graph\n",
    "nx.write_gpickle(g, \"github_my.gpickle.1\")\n",
    "#"
   ]
  },
  {
   "cell_type": "code",
   "execution_count": 7,
   "metadata": {
    "collapsed": false
   },
   "outputs": [
    {
     "ename": "NetworkXError",
     "evalue": "GraphML writer does not support <type 'NoneType'> as data values.",
     "output_type": "error",
     "traceback": [
      "\u001b[0;31m---------------------------------------------------------------------------\u001b[0m",
      "\u001b[0;31mNetworkXError\u001b[0m                             Traceback (most recent call last)",
      "\u001b[0;32m<ipython-input-7-4cd7c574157b>\u001b[0m in \u001b[0;36m<module>\u001b[0;34m()\u001b[0m\n\u001b[1;32m      2\u001b[0m \u001b[0mh\u001b[0m \u001b[0;34m=\u001b[0m \u001b[0mg\u001b[0m\u001b[0;34m.\u001b[0m\u001b[0msubgraph\u001b[0m\u001b[0;34m(\u001b[0m\u001b[0mmtsw_users\u001b[0m\u001b[0;34m)\u001b[0m\u001b[0;34m\u001b[0m\u001b[0m\n\u001b[1;32m      3\u001b[0m \u001b[0;34m\u001b[0m\u001b[0m\n\u001b[0;32m----> 4\u001b[0;31m \u001b[0mnx\u001b[0m\u001b[0;34m.\u001b[0m\u001b[0mwrite_graphml\u001b[0m\u001b[0;34m(\u001b[0m\u001b[0mg\u001b[0m\u001b[0;34m,\u001b[0m \u001b[0;34m\"github_my.graphml\"\u001b[0m\u001b[0;34m)\u001b[0m\u001b[0;34m\u001b[0m\u001b[0m\n\u001b[0m",
      "\u001b[0;32m<decorator-gen-323>\u001b[0m in \u001b[0;36mwrite_graphml\u001b[0;34m(G, path, encoding, prettyprint)\u001b[0m\n",
      "\u001b[0;32m/usr/local/lib/python2.7/dist-packages/networkx/utils/decorators.pyc\u001b[0m in \u001b[0;36m_open_file\u001b[0;34m(func, *args, **kwargs)\u001b[0m\n\u001b[1;32m    218\u001b[0m         \u001b[0;31m# Finally, we call the original function, making sure to close the fobj.\u001b[0m\u001b[0;34m\u001b[0m\u001b[0;34m\u001b[0m\u001b[0m\n\u001b[1;32m    219\u001b[0m         \u001b[0;32mtry\u001b[0m\u001b[0;34m:\u001b[0m\u001b[0;34m\u001b[0m\u001b[0m\n\u001b[0;32m--> 220\u001b[0;31m             \u001b[0mresult\u001b[0m \u001b[0;34m=\u001b[0m \u001b[0mfunc\u001b[0m\u001b[0;34m(\u001b[0m\u001b[0;34m*\u001b[0m\u001b[0mnew_args\u001b[0m\u001b[0;34m,\u001b[0m \u001b[0;34m**\u001b[0m\u001b[0mkwargs\u001b[0m\u001b[0;34m)\u001b[0m\u001b[0;34m\u001b[0m\u001b[0m\n\u001b[0m\u001b[1;32m    221\u001b[0m         \u001b[0;32mfinally\u001b[0m\u001b[0;34m:\u001b[0m\u001b[0;34m\u001b[0m\u001b[0m\n\u001b[1;32m    222\u001b[0m             \u001b[0;32mif\u001b[0m \u001b[0mclose_fobj\u001b[0m\u001b[0;34m:\u001b[0m\u001b[0;34m\u001b[0m\u001b[0m\n",
      "\u001b[0;32m/usr/local/lib/python2.7/dist-packages/networkx/readwrite/graphml.pyc\u001b[0m in \u001b[0;36mwrite_graphml\u001b[0;34m(G, path, encoding, prettyprint)\u001b[0m\n\u001b[1;32m     80\u001b[0m     \"\"\"\n\u001b[1;32m     81\u001b[0m     \u001b[0mwriter\u001b[0m \u001b[0;34m=\u001b[0m \u001b[0mGraphMLWriter\u001b[0m\u001b[0;34m(\u001b[0m\u001b[0mencoding\u001b[0m\u001b[0;34m=\u001b[0m\u001b[0mencoding\u001b[0m\u001b[0;34m,\u001b[0m\u001b[0mprettyprint\u001b[0m\u001b[0;34m=\u001b[0m\u001b[0mprettyprint\u001b[0m\u001b[0;34m)\u001b[0m\u001b[0;34m\u001b[0m\u001b[0m\n\u001b[0;32m---> 82\u001b[0;31m     \u001b[0mwriter\u001b[0m\u001b[0;34m.\u001b[0m\u001b[0madd_graph_element\u001b[0m\u001b[0;34m(\u001b[0m\u001b[0mG\u001b[0m\u001b[0;34m)\u001b[0m\u001b[0;34m\u001b[0m\u001b[0m\n\u001b[0m\u001b[1;32m     83\u001b[0m     \u001b[0mwriter\u001b[0m\u001b[0;34m.\u001b[0m\u001b[0mdump\u001b[0m\u001b[0;34m(\u001b[0m\u001b[0mpath\u001b[0m\u001b[0;34m)\u001b[0m\u001b[0;34m\u001b[0m\u001b[0m\n\u001b[1;32m     84\u001b[0m \u001b[0;34m\u001b[0m\u001b[0m\n",
      "\u001b[0;32m/usr/local/lib/python2.7/dist-packages/networkx/readwrite/graphml.pyc\u001b[0m in \u001b[0;36madd_graph_element\u001b[0;34m(self, G)\u001b[0m\n\u001b[1;32m    348\u001b[0m                   if k not in ['node_default','edge_default'])\n\u001b[1;32m    349\u001b[0m         \u001b[0mself\u001b[0m\u001b[0;34m.\u001b[0m\u001b[0madd_attributes\u001b[0m\u001b[0;34m(\u001b[0m\u001b[0;34m\"graph\"\u001b[0m\u001b[0;34m,\u001b[0m \u001b[0mgraph_element\u001b[0m\u001b[0;34m,\u001b[0m \u001b[0mdata\u001b[0m\u001b[0;34m,\u001b[0m \u001b[0mdefault\u001b[0m\u001b[0;34m)\u001b[0m\u001b[0;34m\u001b[0m\u001b[0m\n\u001b[0;32m--> 350\u001b[0;31m         \u001b[0mself\u001b[0m\u001b[0;34m.\u001b[0m\u001b[0madd_nodes\u001b[0m\u001b[0;34m(\u001b[0m\u001b[0mG\u001b[0m\u001b[0;34m,\u001b[0m\u001b[0mgraph_element\u001b[0m\u001b[0;34m)\u001b[0m\u001b[0;34m\u001b[0m\u001b[0m\n\u001b[0m\u001b[1;32m    351\u001b[0m         \u001b[0mself\u001b[0m\u001b[0;34m.\u001b[0m\u001b[0madd_edges\u001b[0m\u001b[0;34m(\u001b[0m\u001b[0mG\u001b[0m\u001b[0;34m,\u001b[0m\u001b[0mgraph_element\u001b[0m\u001b[0;34m)\u001b[0m\u001b[0;34m\u001b[0m\u001b[0m\n\u001b[1;32m    352\u001b[0m         \u001b[0mself\u001b[0m\u001b[0;34m.\u001b[0m\u001b[0mxml\u001b[0m\u001b[0;34m.\u001b[0m\u001b[0mappend\u001b[0m\u001b[0;34m(\u001b[0m\u001b[0mgraph_element\u001b[0m\u001b[0;34m)\u001b[0m\u001b[0;34m\u001b[0m\u001b[0m\n",
      "\u001b[0;32m/usr/local/lib/python2.7/dist-packages/networkx/readwrite/graphml.pyc\u001b[0m in \u001b[0;36madd_nodes\u001b[0;34m(self, G, graph_element)\u001b[0m\n\u001b[1;32m    305\u001b[0m             \u001b[0mnode_element\u001b[0m \u001b[0;34m=\u001b[0m \u001b[0mElement\u001b[0m\u001b[0;34m(\u001b[0m\u001b[0;34m\"node\"\u001b[0m\u001b[0;34m,\u001b[0m \u001b[0mid\u001b[0m \u001b[0;34m=\u001b[0m \u001b[0mmake_str\u001b[0m\u001b[0;34m(\u001b[0m\u001b[0mnode\u001b[0m\u001b[0;34m)\u001b[0m\u001b[0;34m)\u001b[0m\u001b[0;34m\u001b[0m\u001b[0m\n\u001b[1;32m    306\u001b[0m             \u001b[0mdefault\u001b[0m\u001b[0;34m=\u001b[0m\u001b[0mG\u001b[0m\u001b[0;34m.\u001b[0m\u001b[0mgraph\u001b[0m\u001b[0;34m.\u001b[0m\u001b[0mget\u001b[0m\u001b[0;34m(\u001b[0m\u001b[0;34m'node_default'\u001b[0m\u001b[0;34m,\u001b[0m\u001b[0;34m{\u001b[0m\u001b[0;34m}\u001b[0m\u001b[0;34m)\u001b[0m\u001b[0;34m\u001b[0m\u001b[0m\n\u001b[0;32m--> 307\u001b[0;31m             \u001b[0mself\u001b[0m\u001b[0;34m.\u001b[0m\u001b[0madd_attributes\u001b[0m\u001b[0;34m(\u001b[0m\u001b[0;34m\"node\"\u001b[0m\u001b[0;34m,\u001b[0m \u001b[0mnode_element\u001b[0m\u001b[0;34m,\u001b[0m \u001b[0mdata\u001b[0m\u001b[0;34m,\u001b[0m \u001b[0mdefault\u001b[0m\u001b[0;34m)\u001b[0m\u001b[0;34m\u001b[0m\u001b[0m\n\u001b[0m\u001b[1;32m    308\u001b[0m             \u001b[0mgraph_element\u001b[0m\u001b[0;34m.\u001b[0m\u001b[0mappend\u001b[0m\u001b[0;34m(\u001b[0m\u001b[0mnode_element\u001b[0m\u001b[0;34m)\u001b[0m\u001b[0;34m\u001b[0m\u001b[0m\n\u001b[1;32m    309\u001b[0m \u001b[0;34m\u001b[0m\u001b[0m\n",
      "\u001b[0;32m/usr/local/lib/python2.7/dist-packages/networkx/readwrite/graphml.pyc\u001b[0m in \u001b[0;36madd_attributes\u001b[0;34m(self, scope, xml_obj, data, default)\u001b[0m\n\u001b[1;32m    298\u001b[0m             \u001b[0mdefault_value\u001b[0m\u001b[0;34m=\u001b[0m\u001b[0mdefault\u001b[0m\u001b[0;34m.\u001b[0m\u001b[0mget\u001b[0m\u001b[0;34m(\u001b[0m\u001b[0mk\u001b[0m\u001b[0;34m)\u001b[0m\u001b[0;34m\u001b[0m\u001b[0m\n\u001b[1;32m    299\u001b[0m             obj=self.add_data(make_str(k), type(v), make_str(v),\n\u001b[0;32m--> 300\u001b[0;31m                               scope=scope, default=default_value)\n\u001b[0m\u001b[1;32m    301\u001b[0m             \u001b[0mxml_obj\u001b[0m\u001b[0;34m.\u001b[0m\u001b[0mappend\u001b[0m\u001b[0;34m(\u001b[0m\u001b[0mobj\u001b[0m\u001b[0;34m)\u001b[0m\u001b[0;34m\u001b[0m\u001b[0m\n\u001b[1;32m    302\u001b[0m \u001b[0;34m\u001b[0m\u001b[0m\n",
      "\u001b[0;32m/usr/local/lib/python2.7/dist-packages/networkx/readwrite/graphml.pyc\u001b[0m in \u001b[0;36madd_data\u001b[0;34m(self, name, element_type, value, scope, default)\u001b[0m\n\u001b[1;32m    286\u001b[0m         \u001b[0;32mif\u001b[0m \u001b[0melement_type\u001b[0m \u001b[0;32mnot\u001b[0m \u001b[0;32min\u001b[0m \u001b[0mself\u001b[0m\u001b[0;34m.\u001b[0m\u001b[0mxml_type\u001b[0m\u001b[0;34m:\u001b[0m\u001b[0;34m\u001b[0m\u001b[0m\n\u001b[1;32m    287\u001b[0m             raise nx.NetworkXError('GraphML writer does not support '\n\u001b[0;32m--> 288\u001b[0;31m                                    '%s as data values.'%element_type)\n\u001b[0m\u001b[1;32m    289\u001b[0m         \u001b[0mkey_id\u001b[0m \u001b[0;34m=\u001b[0m \u001b[0mself\u001b[0m\u001b[0;34m.\u001b[0m\u001b[0mget_key\u001b[0m\u001b[0;34m(\u001b[0m\u001b[0mname\u001b[0m\u001b[0;34m,\u001b[0m \u001b[0mself\u001b[0m\u001b[0;34m.\u001b[0m\u001b[0mxml_type\u001b[0m\u001b[0;34m[\u001b[0m\u001b[0melement_type\u001b[0m\u001b[0;34m]\u001b[0m\u001b[0;34m,\u001b[0m \u001b[0mscope\u001b[0m\u001b[0;34m,\u001b[0m \u001b[0mdefault\u001b[0m\u001b[0;34m)\u001b[0m\u001b[0;34m\u001b[0m\u001b[0m\n\u001b[1;32m    290\u001b[0m         \u001b[0mdata_element\u001b[0m \u001b[0;34m=\u001b[0m \u001b[0mElement\u001b[0m\u001b[0;34m(\u001b[0m\u001b[0;34m\"data\"\u001b[0m\u001b[0;34m,\u001b[0m \u001b[0mkey\u001b[0m\u001b[0;34m=\u001b[0m\u001b[0mkey_id\u001b[0m\u001b[0;34m)\u001b[0m\u001b[0;34m\u001b[0m\u001b[0m\n",
      "\u001b[0;31mNetworkXError\u001b[0m: GraphML writer does not support <type 'NoneType'> as data values."
     ]
    }
   ],
   "source": [
    "mtsw_users = [n for n in g if g.node[n]['type'] == 'user']\n",
    "h = g.subgraph(mtsw_users)\n",
    "\n",
    "nx.write_graphml(g, \"github_my.graphml\")"
   ]
  },
  {
   "cell_type": "code",
   "execution_count": 10,
   "metadata": {
    "collapsed": false
   },
   "outputs": [
    {
     "name": "stdout",
     "output_type": "stream",
     "text": [
      "Stats on the full graph\n",
      "Name: \n",
      "Type: DiGraph\n",
      "Number of nodes: 296\n",
      "Number of edges: 297\n",
      "Average in degree:   1.0034\n",
      "Average out degree:   1.0034\n",
      "\n",
      "Stats on the extracted subgraph\n",
      "Name: \n",
      "Type: DiGraph\n",
      "Number of nodes: 293\n",
      "Number of edges: 0\n",
      "Average in degree:   0.0000\n",
      "Average out degree:   0.0000\n"
     ]
    },
    {
     "data": {
      "text/html": [
       "\n",
       "        <iframe\n",
       "            width=\"100%\"\n",
       "            height=\"600px\"\n",
       "            src=\"files/resources/ch07-github/force.html\"\n",
       "            frameborder=\"0\"\n",
       "            allowfullscreen\n",
       "        ></iframe>\n",
       "        "
      ],
      "text/plain": [
       "<IPython.lib.display.IFrame at 0x7fa5c40ada10>"
      ]
     },
     "metadata": {},
     "output_type": "display_data"
    }
   ],
   "source": [
    "import os\n",
    "import json\n",
    "from IPython.display import IFrame\n",
    "from IPython.core.display import display\n",
    "from networkx.readwrite import json_graph\n",
    "\n",
    "print \"Stats on the full graph\"\n",
    "print nx.info(g)\n",
    "print\n",
    "\n",
    "# Create a subgraph from a collection of nodes. In this case, the\n",
    "# collection is all of the users in the original interest graph\n",
    "\n",
    "mtsw_users = [n for n in g if g.node[n]['type'] == 'repo']\n",
    "h = g.subgraph(mtsw_users)\n",
    "\n",
    "print \"Stats on the extracted subgraph\"\n",
    "print nx.info(h)\n",
    "\n",
    "# Visualize the social network of all people from the original interest graph.\n",
    "\n",
    "d = json_graph.node_link_data(g)\n",
    "json.dump(d, open('resources/ch07-github/force.json', 'w'))\n",
    "\n",
    "\n",
    "# IPython Notebook can serve files and display them into\n",
    "# inline frames. Prepend the path with the 'files' prefix.\n",
    "\n",
    "# A D3 template for displaying the graph data.\n",
    "viz_file = 'files/resources/ch07-github/force.html'\n",
    "\n",
    "# Display the D3 visualization.\n",
    "\n",
    "display(IFrame(viz_file, '100%', '600px'))"
   ]
  },
  {
   "cell_type": "code",
   "execution_count": null,
   "metadata": {
    "collapsed": true
   },
   "outputs": [],
   "source": []
  }
 ],
 "metadata": {
  "hide_input": false,
  "kernelspec": {
   "display_name": "pySpark (Spark 1.6.1)",
   "language": "python",
   "name": "pyspark"
  },
  "language_info": {
   "codemirror_mode": {
    "name": "ipython",
    "version": 2
   },
   "file_extension": ".py",
   "mimetype": "text/x-python",
   "name": "python",
   "nbconvert_exporter": "python",
   "pygments_lexer": "ipython2",
   "version": "2.7.8"
  },
  "widgets": {
   "state": {},
   "version": "2.0.0-dev"
  }
 },
 "nbformat": 4,
 "nbformat_minor": 0
}
